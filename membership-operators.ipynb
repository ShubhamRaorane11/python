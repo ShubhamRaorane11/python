{
 "cells": [
  {
   "cell_type": "code",
   "execution_count": null,
   "id": "d856e9a3",
   "metadata": {},
   "outputs": [
    {
     "name": "stdout",
     "output_type": "stream",
     "text": [
      "x not found\n"
     ]
    }
   ],
   "source": [
    "# membership operators = used to test whether a value or variable is found in a sequence\n",
    "# (string,list,tuple,set or dictionary)\n",
    "# 1.in     2. not in\n",
    "\n",
    "# string\n",
    "word = \"Apple\"\n",
    "\n",
    "letter = input(\"Guess a letter in the secret word: \")\n",
    "\n",
    "if letter in word:\n",
    "    print(f\"There is a {letter}\")\n",
    "else:\n",
    "    print(f\"{letter} not found\")"
   ]
  },
  {
   "cell_type": "code",
   "execution_count": null,
   "id": "1997b493",
   "metadata": {},
   "outputs": [
    {
     "name": "stdout",
     "output_type": "stream",
     "text": [
      "Patrick was found\n"
     ]
    }
   ],
   "source": [
    "#sets\n",
    "students = {\"Spongebob\",\"Squarepants\",\"Patrick\"}\n",
    "\n",
    "student = input(\"Enter the name of a student: \")\n",
    "\n",
    "if student not in students:\n",
    "    print(f\"{student} was not found\")\n",
    "else:\n",
    "    print(f\"{student} was found\")"
   ]
  },
  {
   "cell_type": "code",
   "execution_count": 4,
   "id": "35c51e08",
   "metadata": {},
   "outputs": [
    {
     "name": "stdout",
     "output_type": "stream",
     "text": [
      "Joe's grade is C\n"
     ]
    }
   ],
   "source": [
    "# dictionary\n",
    "grades = {\"Sandy\": \"A\",\"Patrick\": \"B\", \"Joe\": \"C\"}\n",
    "\n",
    "student = input(\"Enter the name of a student: \")\n",
    "\n",
    "if student in grades:\n",
    "    print(f\"{student}'s grade is {grades[student]}\")\n",
    "else:\n",
    "    print(f\"{student} was not found\")"
   ]
  },
  {
   "cell_type": "code",
   "execution_count": 5,
   "id": "a61459c0",
   "metadata": {},
   "outputs": [
    {
     "name": "stdout",
     "output_type": "stream",
     "text": [
      "Valid email\n"
     ]
    }
   ],
   "source": [
    "email = \"shubham.rrane@gmail.com\"\n",
    "\n",
    "if \"@\" in email and \".\" in email:\n",
    "    print(\"Valid email\")\n",
    "else:\n",
    "    print(\"Invalid email\")"
   ]
  }
 ],
 "metadata": {
  "kernelspec": {
   "display_name": "Python 3",
   "language": "python",
   "name": "python3"
  },
  "language_info": {
   "codemirror_mode": {
    "name": "ipython",
    "version": 3
   },
   "file_extension": ".py",
   "mimetype": "text/x-python",
   "name": "python",
   "nbconvert_exporter": "python",
   "pygments_lexer": "ipython3",
   "version": "3.13.5"
  }
 },
 "nbformat": 4,
 "nbformat_minor": 5
}
