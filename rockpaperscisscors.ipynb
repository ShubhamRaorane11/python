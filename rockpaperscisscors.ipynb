{
 "cells": [
  {
   "cell_type": "code",
   "execution_count": 3,
   "id": "cc5d66be",
   "metadata": {},
   "outputs": [
    {
     "name": "stdout",
     "output_type": "stream",
     "text": [
      "Player: paper\n",
      "Computer: scissors\n",
      "You Lose!\n",
      "Player: paper\n",
      "Computer: paper\n",
      "Its a tie!\n",
      "Thanks for playing!\n"
     ]
    }
   ],
   "source": [
    "import random \n",
    "\n",
    "options = (\"rock\",\"paper\",\"scissors\")\n",
    "\n",
    "running = True\n",
    "while running:\n",
    "\n",
    "    player = None\n",
    "    computer =  random.choice(options)\n",
    "\n",
    "    while player not in options:\n",
    "        player = input(\"Enter a choice (rock, paper, scissors): \")\n",
    "\n",
    "    print(f\"Player: {player}\")\n",
    "    print(f\"Computer: {computer}\")\n",
    "\n",
    "    if player == computer:\n",
    "        print(\"Its a tie!\")\n",
    "    elif player == \"rock\" and computer == \"scissors\":\n",
    "        print(\"You Win!\")\n",
    "    elif player == \"scissors\" and computer == \"paper\":\n",
    "        print(\"You Win!\")\n",
    "    elif player == \"paper\" and computer == \"rock\":\n",
    "        print(\"You Win!\")\n",
    "    else:\n",
    "        print(\"You Lose!\")\n",
    "\n",
    "    play_again = input(\"Play again? (y/n): \").lower()\n",
    "    if not play_again == \"y\":\n",
    "        running = False\n",
    "\n",
    "print(\"Thanks for playing!\")"
   ]
  }
 ],
 "metadata": {
  "kernelspec": {
   "display_name": "Python 3",
   "language": "python",
   "name": "python3"
  },
  "language_info": {
   "codemirror_mode": {
    "name": "ipython",
    "version": 3
   },
   "file_extension": ".py",
   "mimetype": "text/x-python",
   "name": "python",
   "nbconvert_exporter": "python",
   "pygments_lexer": "ipython3",
   "version": "3.13.5"
  }
 },
 "nbformat": 4,
 "nbformat_minor": 5
}
