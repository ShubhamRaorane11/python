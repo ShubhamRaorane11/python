{
 "cells": [
  {
   "cell_type": "code",
   "execution_count": 1,
   "id": "3559969a",
   "metadata": {},
   "outputs": [
    {
     "name": "stdout",
     "output_type": "stream",
     "text": [
      "15.5\n",
      "<class 'float'>\n"
     ]
    }
   ],
   "source": [
    "# implicit type function\n",
    "\n",
    "integer_value = 10\n",
    "float_value = 5.5\n",
    "\n",
    "result = integer_value + float_value\n",
    "print(result)\n",
    "print(type(result))"
   ]
  },
  {
   "cell_type": "code",
   "execution_count": 2,
   "id": "b3377434",
   "metadata": {},
   "outputs": [
    {
     "name": "stdout",
     "output_type": "stream",
     "text": [
      "7\n",
      "<class 'int'>\n"
     ]
    }
   ],
   "source": [
    "#Explicit function\n",
    "#converting a float to integer\n",
    "\n",
    "float_value = 7.9\n",
    "int_value = int(float_value)\n",
    "print(int_value)\n",
    "print(type(int_value))"
   ]
  },
  {
   "cell_type": "code",
   "execution_count": 3,
   "id": "9aa66ae9",
   "metadata": {},
   "outputs": [
    {
     "name": "stdout",
     "output_type": "stream",
     "text": [
      "89\n",
      "<class 'str'>\n"
     ]
    }
   ],
   "source": [
    "#converting an integer to string\n",
    "\n",
    "int_value = 89\n",
    "str_value = str(int_value)\n",
    "print(str_value)\n",
    "print(type(str_value))"
   ]
  },
  {
   "cell_type": "code",
   "execution_count": 4,
   "id": "7146c263",
   "metadata": {},
   "outputs": [
    {
     "name": "stdout",
     "output_type": "stream",
     "text": [
      "True\n",
      "<class 'bool'>\n"
     ]
    }
   ],
   "source": [
    "#converting an integer to boolean\n",
    "\n",
    "int_value = 1\n",
    "bool_value = bool(int_value)\n",
    "print(bool_value)\n",
    "print(type(bool_value))"
   ]
  },
  {
   "cell_type": "code",
   "execution_count": 5,
   "id": "8dad296d",
   "metadata": {},
   "outputs": [
    {
     "name": "stdout",
     "output_type": "stream",
     "text": [
      "(2+0j)\n",
      "<class 'complex'>\n"
     ]
    }
   ],
   "source": [
    "# converting an integer to complex number\n",
    "int_value = 2\n",
    "complex_value = complex(int_value)\n",
    "print(complex_value)\n",
    "print(type(complex_value))"
   ]
  },
  {
   "cell_type": "code",
   "execution_count": 6,
   "id": "c041a0ef",
   "metadata": {},
   "outputs": [
    {
     "name": "stdout",
     "output_type": "stream",
     "text": [
      "['s', 'h', 'u', 'b', 'h', 'a', 'm']\n",
      "<class 'list'>\n"
     ]
    }
   ],
   "source": [
    "#converting a string to list\n",
    "\n",
    "string_value = \"shubham\"\n",
    "list_value = list(string_value)\n",
    "print(list_value)\n",
    "print(type(list_value))"
   ]
  },
  {
   "cell_type": "code",
   "execution_count": 7,
   "id": "1bc12b3c",
   "metadata": {},
   "outputs": [
    {
     "name": "stdout",
     "output_type": "stream",
     "text": [
      "(1, 2, 3, 4, 5)\n",
      "<class 'tuple'>\n"
     ]
    }
   ],
   "source": [
    "#converting a list to tuple\n",
    "\n",
    "list_value = [1,2,3,4,5]\n",
    "tuple_value = tuple(list_value)\n",
    "print(tuple_value)\n",
    "print(type(tuple_value))"
   ]
  },
  {
   "cell_type": "code",
   "execution_count": 8,
   "id": "90927c77",
   "metadata": {},
   "outputs": [
    {
     "name": "stdout",
     "output_type": "stream",
     "text": [
      "{1, 3, 4, 6, 7}\n",
      "<class 'set'>\n"
     ]
    }
   ],
   "source": [
    "#converting a list to set\n",
    "\n",
    "list_value = [1,3,4,6,7]\n",
    "set_value = set(list_value)\n",
    "print(set_value)\n",
    "print(type(set_value))"
   ]
  },
  {
   "cell_type": "code",
   "execution_count": 9,
   "id": "ec18708b",
   "metadata": {},
   "outputs": [
    {
     "name": "stdout",
     "output_type": "stream",
     "text": [
      "{'a': 1, 'b': 2}\n",
      "<class 'dict'>\n"
     ]
    }
   ],
   "source": [
    "#converting a list of tuples to dictionary\n",
    "\n",
    "list_of_tuples = [(\"a\", 1), (\"b\", 2)]\n",
    "dict_value = dict(list_of_tuples)\n",
    "print(dict_value)\n",
    "print(type(dict_value)) "
   ]
  }
 ],
 "metadata": {
  "kernelspec": {
   "display_name": "Python 3",
   "language": "python",
   "name": "python3"
  },
  "language_info": {
   "codemirror_mode": {
    "name": "ipython",
    "version": 3
   },
   "file_extension": ".py",
   "mimetype": "text/x-python",
   "name": "python",
   "nbconvert_exporter": "python",
   "pygments_lexer": "ipython3",
   "version": "3.13.5"
  }
 },
 "nbformat": 4,
 "nbformat_minor": 5
}
