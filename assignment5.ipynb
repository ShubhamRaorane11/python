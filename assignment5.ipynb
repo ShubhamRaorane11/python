{
 "cells": [
  {
   "cell_type": "code",
   "execution_count": 2,
   "id": "904729ea",
   "metadata": {},
   "outputs": [
    {
     "name": "stdout",
     "output_type": "stream",
     "text": [
      "The area is: 301.5cm²\n"
     ]
    }
   ],
   "source": [
    "#Rectangle area calculator\n",
    "\n",
    "length = float(input(\"Enter the length: \"))\n",
    "width = float(input(\"Enter the width: \"))\n",
    "area = length * width\n",
    "print(f\"The area is: {area}cm²\")"
   ]
  },
  {
   "cell_type": "code",
   "execution_count": 9,
   "id": "20c631fe",
   "metadata": {},
   "outputs": [
    {
     "name": "stdout",
     "output_type": "stream",
     "text": [
      "The total price of the pizza is $1380.0\n"
     ]
    }
   ],
   "source": [
    "#shopping cart program\n",
    "\n",
    "item = input(\"what item you want to buy?:\")\n",
    "price = float(input(\"What is the price of the item?: \"))\n",
    "quantity = int(input(\"How many would you like?: \"))\n",
    "total_price = price * quantity\n",
    "print(f\"The total price of the {item} is ${total_price}\" )"
   ]
  },
  {
   "cell_type": "code",
   "execution_count": 12,
   "id": "53f2f8cc",
   "metadata": {},
   "outputs": [
    {
     "name": "stdout",
     "output_type": "stream",
     "text": [
      "Today i went to the Simons zoo.\n",
      "In an exhibit, I saw a Lion\n",
      "Lion was angry and roaring.\n",
      "I was Scared!\n"
     ]
    }
   ],
   "source": [
    "# madlibs game\n",
    "# word game where you create a story\n",
    "# by filling in blanks with random words\n",
    "\n",
    "adjective1 = input(\"Enter an adjective (description): \")\n",
    "noun1 = input(\"Enter a noun (person, place, thing): \")\n",
    "adjective2 = input(\"Enter an adjective: \")\n",
    "verb1 = input(\"Enter a verb\")\n",
    "adjective3 = input(\"Enter an adjective: \")\n",
    "\n",
    "print(f\"Today i went to the {adjective1} zoo.\")\n",
    "print(f\"In an exhibit, I saw a {noun1}\")\n",
    "print(f\"{noun1} was {adjective2} and {verb1}.\")\n",
    "print(f\"I was {adjective3}!\")"
   ]
  },
  {
   "cell_type": "code",
   "execution_count": 1,
   "id": "c71bbcc3",
   "metadata": {},
   "outputs": [
    {
     "name": "stdout",
     "output_type": "stream",
     "text": [
      "The circumference is: 218.53\n"
     ]
    }
   ],
   "source": [
    "# calculate the radius of a circle\n",
    "import math\n",
    "\n",
    "radius = float(input(\"Enter the radius of circle: \"))\n",
    "\n",
    "circumference = 2 * math.pi * radius\n",
    "print(f\"The circumference is: {round(circumference, 2)}\")"
   ]
  },
  {
   "cell_type": "code",
   "execution_count": null,
   "id": "08570ea2",
   "metadata": {},
   "outputs": [
    {
     "name": "stdout",
     "output_type": "stream",
     "text": [
      "The area of the circle is: 10135.53cm²\n"
     ]
    }
   ],
   "source": [
    "# calculate area of a circle\n",
    "import math\n",
    "radius = float(input(\"Enter the radius of the circle: \"))\n",
    "\n",
    "print(f\"The area of the circle is: {round(area,2)}cm²\")\n",
    "area = math.pi * pow(radius,2)"
   ]
  },
  {
   "cell_type": "code",
   "execution_count": 5,
   "id": "a1f445ea",
   "metadata": {},
   "outputs": [
    {
     "name": "stdout",
     "output_type": "stream",
     "text": [
      "side c = 25.942243542145693\n"
     ]
    }
   ],
   "source": [
    "# calculate the hypotenis of right angle triangle\n",
    "\n",
    "import math\n",
    "a = float(input(\"Enter side A: \"))\n",
    "b = float(input(\"Enter side B: \"))\n",
    "\n",
    "c = math.sqrt(pow(a,2) + pow(b,2))\n",
    "print(f\"side c = {c}\")"
   ]
  }
 ],
 "metadata": {
  "kernelspec": {
   "display_name": "Python 3",
   "language": "python",
   "name": "python3"
  },
  "language_info": {
   "codemirror_mode": {
    "name": "ipython",
    "version": 3
   },
   "file_extension": ".py",
   "mimetype": "text/x-python",
   "name": "python",
   "nbconvert_exporter": "python",
   "pygments_lexer": "ipython3",
   "version": "3.13.5"
  }
 },
 "nbformat": 4,
 "nbformat_minor": 5
}
