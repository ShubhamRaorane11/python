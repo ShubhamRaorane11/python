{
 "cells": [
  {
   "cell_type": "code",
   "execution_count": 1,
   "metadata": {},
   "outputs": [
    {
     "name": "stdout",
     "output_type": "stream",
     "text": [
      "[]\n"
     ]
    }
   ],
   "source": [
    "# empty list\n",
    "my_list = []\n",
    "print(my_list)"
   ]
  },
  {
   "cell_type": "code",
   "execution_count": 2,
   "metadata": {},
   "outputs": [
    {
     "name": "stdout",
     "output_type": "stream",
     "text": [
      "[1, 2, 3]\n"
     ]
    }
   ],
   "source": [
    "# integer list\n",
    "my_list = [1, 2, 3]\n",
    "print(my_list)"
   ]
  },
  {
   "cell_type": "code",
   "execution_count": 3,
   "metadata": {},
   "outputs": [
    {
     "name": "stdout",
     "output_type": "stream",
     "text": [
      "[1, 'Hello', 3.4]\n"
     ]
    }
   ],
   "source": [
    "# mixed list\n",
    "my_list = [1, \"Hello\", 3.4]\n",
    "print(my_list)"
   ]
  },
  {
   "cell_type": "code",
   "execution_count": 4,
   "metadata": {},
   "outputs": [
    {
     "name": "stdout",
     "output_type": "stream",
     "text": [
      "[1.1, 2.2, 3.3]\n"
     ]
    }
   ],
   "source": [
    "# float list\n",
    "my_list = [1.1, 2.2, 3.3]\n",
    "print(my_list)"
   ]
  },
  {
   "cell_type": "code",
   "execution_count": 6,
   "metadata": {},
   "outputs": [
    {
     "name": "stdout",
     "output_type": "stream",
     "text": [
      "['apple', 'banana', 'cherry']\n"
     ]
    }
   ],
   "source": [
    "# string list\n",
    "my_list = [\"apple\", \"banana\", \"cherry\"]\n",
    "print(my_list)"
   ]
  },
  {
   "cell_type": "code",
   "execution_count": 7,
   "metadata": {},
   "outputs": [
    {
     "name": "stdout",
     "output_type": "stream",
     "text": [
      "['apple', [1, 2, 3], ['banana', 'cherry']]\n"
     ]
    }
   ],
   "source": [
    "# nesdted list\n",
    "my_list = [\"apple\", [1, 2, 3], [\"banana\", \"cherry\"]]\n",
    "print(my_list)"
   ]
  },
  {
   "cell_type": "code",
   "execution_count": 9,
   "metadata": {},
   "outputs": [
    {
     "name": "stdout",
     "output_type": "stream",
     "text": [
      "apple\n",
      "cherry\n"
     ]
    }
   ],
   "source": [
    "# indexing list\n",
    "my_list = [\"apple\", \"banana\", \"cherry\"]\n",
    "print(my_list[0])\n",
    "print(my_list[-1])"
   ]
  },
  {
   "cell_type": "code",
   "execution_count": 10,
   "metadata": {},
   "outputs": [
    {
     "name": "stdout",
     "output_type": "stream",
     "text": [
      "['banana', 'cherry']\n",
      "['banana', 'cherry']\n",
      "['apple', 'banana']\n"
     ]
    }
   ],
   "source": [
    "# slicing list\n",
    "print(my_list[1:3])\n",
    "print(my_list[1:])\n",
    "print(my_list[:2])"
   ]
  },
  {
   "cell_type": "code",
   "execution_count": 11,
   "metadata": {},
   "outputs": [
    {
     "name": "stdout",
     "output_type": "stream",
     "text": [
      "['apple', 'banana', 'cherry', 'orange']\n"
     ]
    }
   ],
   "source": [
    "# append method\n",
    "my_list = [\"apple\", \"banana\", \"cherry\"]\n",
    "my_list.append(\"orange\")\n",
    "print(my_list)"
   ]
  },
  {
   "cell_type": "code",
   "execution_count": 13,
   "metadata": {},
   "outputs": [
    {
     "name": "stdout",
     "output_type": "stream",
     "text": [
      "['apple', 'banana', 'cherry', 'orange', 'mango']\n"
     ]
    }
   ],
   "source": [
    "# extend method\n",
    "my_list = [\"apple\", \"banana\", \"cherry\"]\n",
    "my_list.extend([\"orange\", \"mango\"])\n",
    "print(my_list)"
   ]
  },
  {
   "cell_type": "code",
   "execution_count": 14,
   "metadata": {},
   "outputs": [
    {
     "name": "stdout",
     "output_type": "stream",
     "text": [
      "['apple', 'orange', 'banana', 'cherry']\n"
     ]
    }
   ],
   "source": [
    "# insert method\n",
    "my_list = [\"apple\", \"banana\", \"cherry\"]\n",
    "my_list.insert(1, \"orange\")\n",
    "print(my_list)"
   ]
  },
  {
   "cell_type": "code",
   "execution_count": 15,
   "metadata": {},
   "outputs": [
    {
     "name": "stdout",
     "output_type": "stream",
     "text": [
      "['apple', 'cherry']\n"
     ]
    }
   ],
   "source": [
    "#  remove method\n",
    "my_list = [\"apple\", \"banana\", \"cherry\"]\n",
    "my_list.remove(\"banana\")\n",
    "print(my_list)"
   ]
  },
  {
   "cell_type": "code",
   "execution_count": 16,
   "metadata": {},
   "outputs": [
    {
     "name": "stdout",
     "output_type": "stream",
     "text": [
      "['apple', 'banana']\n"
     ]
    }
   ],
   "source": [
    "# pop method\n",
    "my_list = [\"apple\", \"banana\", \"cherry\"]\n",
    "my_list.pop()\n",
    "print(my_list)"
   ]
  },
  {
   "cell_type": "code",
   "execution_count": 17,
   "metadata": {},
   "outputs": [
    {
     "name": "stdout",
     "output_type": "stream",
     "text": [
      "['apple', 'cherry']\n"
     ]
    }
   ],
   "source": [
    "my_list = [\"apple\", \"banana\", \"cherry\"]\n",
    "my_list.pop(1)\n",
    "print(my_list)"
   ]
  },
  {
   "cell_type": "code",
   "execution_count": 18,
   "metadata": {},
   "outputs": [
    {
     "name": "stdout",
     "output_type": "stream",
     "text": [
      "[]\n"
     ]
    }
   ],
   "source": [
    "# remove all elements\n",
    "my_list = [\"apple\", \"banana\", \"cherry\"]\n",
    "my_list.clear()\n",
    "print(my_list)"
   ]
  },
  {
   "cell_type": "code",
   "execution_count": 19,
   "metadata": {},
   "outputs": [
    {
     "name": "stdout",
     "output_type": "stream",
     "text": [
      "apple\n",
      "banana\n",
      "cherry\n"
     ]
    }
   ],
   "source": [
    "# print using loop\n",
    "my_list = [\"apple\", \"banana\", \"cherry\"]\n",
    "for x in my_list:\n",
    "    print(x)\n",
    "    "
   ]
  },
  {
   "cell_type": "code",
   "execution_count": 4,
   "metadata": {},
   "outputs": [
    {
     "name": "stdout",
     "output_type": "stream",
     "text": [
      "[1, 1, 2, 3, 3, 4, 5, 5, 6, 9]\n"
     ]
    }
   ],
   "source": [
    "# sort method\n",
    "numbers = [3, 1, 4, 1, 5, 9, 2, 6, 5, 3]\n",
    "numbers.sort()\n",
    "print(numbers)\n"
   ]
  },
  {
   "cell_type": "code",
   "execution_count": 1,
   "metadata": {},
   "outputs": [
    {
     "name": "stdout",
     "output_type": "stream",
     "text": [
      "['a', 'b', 'c', 1, 2, 3]\n"
     ]
    }
   ],
   "source": [
    "# concatenate list \n",
    "# you can concatenate two lists using the + operator\n",
    "\n",
    "list1 = [\"a\", \"b\", \"c\"]\n",
    "list2 = [1, 2, 3]\n",
    "result = list1 + list2\n",
    "print(result)\n"
   ]
  },
  {
   "cell_type": "code",
   "execution_count": 2,
   "metadata": {},
   "outputs": [
    {
     "name": "stdout",
     "output_type": "stream",
     "text": [
      "['a', 'b', 'c', 'a', 'b', 'c']\n"
     ]
    }
   ],
   "source": [
    "# repeat list\n",
    "# you can repeat a list using the * operator\n",
    "\n",
    "list1 = [\"a\", \"b\", \"c\"]\n",
    "result = list1 * 2\n",
    "print(result)"
   ]
  },
  {
   "cell_type": "code",
   "execution_count": 11,
   "metadata": {},
   "outputs": [],
   "source": [
    "# asignment questions\n",
    "\n",
    "# 1. Write a Python program to sum all the items in a list.\n",
    "# 2. Write a Python program to multiplies all the items in a list.\n",
    "# 3. Write a Python program to get the largest number from a list.\n",
    "# 4. Write a Python program to get the smallest number from a list.\n",
    "# 5. Write a Python program to count the number of strings where the string length is 2 or more and the first and last character are same from a given list of strings.\n",
    "# 6. Write a Python program to get a list, sorted in increasing order by the last element in each tuple from a given list of non-empty tuples.\n",
    "# 7. Write a Python program to remove duplicates from a list.\n",
    "# 8. Write a Python program to check a list is empty or not.\n",
    "# 9. Write a Python program to clone or copy a list.\n",
    "# 10. Write a Python program to find the list of words that are longer than n from a given list of words."
   ]
  },
  {
   "cell_type": "code",
   "execution_count": 17,
   "metadata": {},
   "outputs": [
    {
     "name": "stdout",
     "output_type": "stream",
     "text": [
      "-3\n"
     ]
    }
   ],
   "source": [
    "#1\n",
    "\n",
    "def sum_list(items):\n",
    "    sum_numbers = 0\n",
    "    for x in items:\n",
    "        sum_numbers += x\n",
    "    return sum_numbers\n",
    "print(sum_list([1,2,-6]))\n",
    "    "
   ]
  },
  {
   "cell_type": "code",
   "execution_count": 18,
   "metadata": {},
   "outputs": [
    {
     "name": "stdout",
     "output_type": "stream",
     "text": [
      "-21\n"
     ]
    }
   ],
   "source": [
    "# 2\n",
    "def multiply_list(items):\n",
    "    multiply_numbers = 1\n",
    "    for x in items:\n",
    "        multiply_numbers *= x\n",
    "    return multiply_numbers\n",
    "print(multiply_list([1,7,-3]))"
   ]
  },
  {
   "cell_type": "code",
   "execution_count": 20,
   "metadata": {},
   "outputs": [
    {
     "name": "stdout",
     "output_type": "stream",
     "text": [
      "56\n"
     ]
    }
   ],
   "source": [
    "#3\n",
    "def max_number(items):\n",
    "    max_items = 0\n",
    "    for x in items:\n",
    "        if x > max_items:\n",
    "            max_items = x\n",
    "    return max_items\n",
    "print(max_number([1,9,56]))"
   ]
  },
  {
   "cell_type": "code",
   "execution_count": 24,
   "metadata": {},
   "outputs": [
    {
     "name": "stdout",
     "output_type": "stream",
     "text": [
      "-6\n"
     ]
    }
   ],
   "source": [
    "#4\n",
    "def min_number(items):\n",
    "    min_items = 0\n",
    "    for x in items:\n",
    "        if x < min_items:\n",
    "            min_items = x\n",
    "    return min_items\n",
    "print(min_number([1,9,7,0,-6]))"
   ]
  },
  {
   "cell_type": "code",
   "execution_count": 25,
   "metadata": {},
   "outputs": [
    {
     "name": "stdout",
     "output_type": "stream",
     "text": [
      "2\n"
     ]
    }
   ],
   "source": [
    "#5\n",
    "def count_string(items):\n",
    "    count = 0\n",
    "    for x in items:\n",
    "        if len(x) > 2 and x[0] == x[-1]:\n",
    "            count += 1\n",
    "    return count\n",
    "print(count_string(['abc', 'xyz', 'aba', '1221']))"
   ]
  },
  {
   "cell_type": "code",
   "execution_count": 28,
   "metadata": {},
   "outputs": [
    {
     "name": "stdout",
     "output_type": "stream",
     "text": [
      "[(1, 2), (2, 5), (5, 7)]\n"
     ]
    }
   ],
   "source": [
    "#6\n",
    "def last(n):\n",
    "    return n[-1]\n",
    "def sort_list_last(tuples):\n",
    "    return sorted(tuples, key=last)\n",
    "print(sort_list_last([(2,5), (1,2), (5,7)]))"
   ]
  },
  {
   "cell_type": "code",
   "execution_count": 29,
   "metadata": {},
   "outputs": [
    {
     "name": "stdout",
     "output_type": "stream",
     "text": [
      "[40, 10, 80, 50, 20, 60, 30]\n"
     ]
    }
   ],
   "source": [
    "#7\n",
    "def remove_duplicates(items):\n",
    "    return list(set(items))\n",
    "print(remove_duplicates([10,20,30,20,10,50,60,40,80,50,40]))"
   ]
  },
  {
   "cell_type": "code",
   "execution_count": 32,
   "metadata": {},
   "outputs": [
    {
     "name": "stdout",
     "output_type": "stream",
     "text": [
      "False\n"
     ]
    }
   ],
   "source": [
    "#8\n",
    "def is_empty(items):\n",
    "    if len(items) == 0:\n",
    "        return True\n",
    "    else:\n",
    "        return False\n",
    "print(is_empty([1,2,3]))"
   ]
  },
  {
   "cell_type": "code",
   "execution_count": 33,
   "metadata": {},
   "outputs": [
    {
     "name": "stdout",
     "output_type": "stream",
     "text": [
      "[1, 2, 3, 4]\n"
     ]
    }
   ],
   "source": [
    "#9\n",
    "def clone_list(items):\n",
    "    return items.copy()\n",
    "print(clone_list([1,2,3,4]))"
   ]
  },
  {
   "cell_type": "code",
   "execution_count": 1,
   "metadata": {},
   "outputs": [
    {
     "name": "stdout",
     "output_type": "stream",
     "text": [
      "['banana', 'cherry']\n"
     ]
    }
   ],
   "source": [
    "#10\n",
    "def longer_than_n(items, n):\n",
    "    return [x for x in items if len(x) > n]\n",
    "print(longer_than_n(['apple', 'banana', 'cherry', 'mango'], 5))"
   ]
  }
 ],
 "metadata": {
  "kernelspec": {
   "display_name": "Python 3",
   "language": "python",
   "name": "python3"
  },
  "language_info": {
   "codemirror_mode": {
    "name": "ipython",
    "version": 3
   },
   "file_extension": ".py",
   "mimetype": "text/x-python",
   "name": "python",
   "nbconvert_exporter": "python",
   "pygments_lexer": "ipython3",
   "version": "3.12.5"
  }
 },
 "nbformat": 4,
 "nbformat_minor": 2
}
