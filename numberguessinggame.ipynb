{
 "cells": [
  {
   "cell_type": "code",
   "execution_count": 2,
   "id": "555a5334",
   "metadata": {},
   "outputs": [
    {
     "name": "stdout",
     "output_type": "stream",
     "text": [
      "Python Number Guessing Game\n",
      "Select a number between 1 and 10\n",
      "That number is out of range\n",
      "Please select a number between 1 and 10\n",
      "That number is out of range\n",
      "Please select a number between 1 and 10\n",
      "Too high! Try again!\n",
      "Too high! Try again!\n",
      "Too high! Try again!\n",
      "Too low! Try again!\n",
      "Correct! The answer was 4\n",
      "Number of guesses: 7\n"
     ]
    }
   ],
   "source": [
    "import random\n",
    "\n",
    "lowest_number = 1\n",
    "highest_number = 10\n",
    "answer = random.randint(lowest_number, highest_number)\n",
    "\n",
    "guesses = 0\n",
    "is_running = True\n",
    "\n",
    "print(\"Python Number Guessing Game\")\n",
    "print(f\"Select a number between {lowest_number} and {highest_number}\")\n",
    "\n",
    "while is_running:\n",
    "    guess = input(\"Enter a guess: \")\n",
    "\n",
    "    if guess.isdigit():  \n",
    "        guess = int(guess)\n",
    "        guesses += 1\n",
    "\n",
    "        if guess < lowest_number or guess > highest_number:\n",
    "            print(\"That number is out of range\") \n",
    "            print(f\"Please select a number between {lowest_number} and {highest_number}\")\n",
    "        elif guess < answer:\n",
    "            print(\"Too low! Try again!\")\n",
    "        elif guess > answer:\n",
    "            print(\"Too high! Try again!\")\n",
    "        else:\n",
    "            print(f\"Correct! The answer was {answer}\")\n",
    "            print(f\"Number of guesses: {guesses}\")\n",
    "            is_running = False\n",
    "    else:\n",
    "        print(\"Invalid Guess\")\n",
    "        print(f\"Please select a number between {lowest_number} and {highest_number}\")\n"
   ]
  }
 ],
 "metadata": {
  "kernelspec": {
   "display_name": "Python 3",
   "language": "python",
   "name": "python3"
  },
  "language_info": {
   "codemirror_mode": {
    "name": "ipython",
    "version": 3
   },
   "file_extension": ".py",
   "mimetype": "text/x-python",
   "name": "python",
   "nbconvert_exporter": "python",
   "pygments_lexer": "ipython3",
   "version": "3.13.5"
  }
 },
 "nbformat": 4,
 "nbformat_minor": 5
}
