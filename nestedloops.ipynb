{
 "cells": [
  {
   "cell_type": "code",
   "execution_count": 5,
   "id": "63255ef0",
   "metadata": {},
   "outputs": [
    {
     "name": "stdout",
     "output_type": "stream",
     "text": [
      "1 2 3 4 5 6 7 8 9 \n",
      "1 2 3 4 5 6 7 8 9 \n",
      "1 2 3 4 5 6 7 8 9 \n"
     ]
    }
   ],
   "source": [
    "for y in range(3):\n",
    "    for x in range(1,10):\n",
    "        print(x, end=\" \")\n",
    "    print()\n"
   ]
  },
  {
   "cell_type": "code",
   "execution_count": null,
   "id": "015c81ea",
   "metadata": {},
   "outputs": [
    {
     "name": "stdout",
     "output_type": "stream",
     "text": [
      "% % % % \n",
      "% % % % \n",
      "% % % % \n"
     ]
    }
   ],
   "source": [
    "#print the pattern % using nested loops\n",
    "rows = int(input(\"Enter the # of rows: \"))\n",
    "columns = int(input(\"Enter the # of columns: \"))\n",
    "symbols = input(\"Enter the symbol: \")\n",
    "\n",
    "for x in range(rows):\n",
    "    for y in range(columns):\n",
    "        print(symbols, end=\" \")\n",
    "    print()"
   ]
  },
  {
   "cell_type": "code",
   "execution_count": 12,
   "id": "bbcd4f06",
   "metadata": {},
   "outputs": [
    {
     "name": "stdout",
     "output_type": "stream",
     "text": [
      "\n",
      "* \n",
      "* * \n",
      "* * * \n",
      "* * * * \n",
      "* * * * * \n",
      "* * * * \n",
      "* * * \n",
      "* * \n",
      "* \n"
     ]
    }
   ],
   "source": [
    "# print the pattern * using nested loops\n",
    "n = int(input(\"Enter the value to start sequence\"))\n",
    "\n",
    "for i in range(n):\n",
    "    for j in range(i):\n",
    "        print('*', end=\" \")\n",
    "    print()\n",
    "\n",
    "for i in range(n,0,-1):\n",
    "    for j in range(i):\n",
    "        print('*', end=\" \")\n",
    "    print()"
   ]
  },
  {
   "cell_type": "code",
   "execution_count": 13,
   "id": "9f5b9d5d",
   "metadata": {},
   "outputs": [
    {
     "name": "stdout",
     "output_type": "stream",
     "text": [
      "* \n",
      "* * \n",
      "* * * \n",
      "* * * * \n"
     ]
    }
   ],
   "source": [
    "# print single star at first row 2 stars in the second row and continue doing this in a similar fashion\n",
    "for i in range(0,4):\n",
    "    for j in range(0,i+1):\n",
    "        print(\"*\",end=\" \")\n",
    "    print()"
   ]
  },
  {
   "cell_type": "code",
   "execution_count": 15,
   "id": "68b779ad",
   "metadata": {},
   "outputs": [
    {
     "name": "stdout",
     "output_type": "stream",
     "text": [
      "$ \n",
      "$ $ $ \n",
      "$ $ $ $ $ \n",
      "$ $ $ $ $ $ $ \n",
      "$ $ $ $ $ $ $ $ $ \n"
     ]
    }
   ],
   "source": [
    "# print odd number patterns\n",
    "k = 1\n",
    "for i in range(0,5):\n",
    "    for j in range(0,k):\n",
    "        print('$',end=\" \")\n",
    "    k = k + 2\n",
    "    print()"
   ]
  },
  {
   "cell_type": "code",
   "execution_count": 16,
   "id": "b283ac14",
   "metadata": {},
   "outputs": [
    {
     "name": "stdout",
     "output_type": "stream",
     "text": [
      "1\n",
      "what\n",
      "when\n",
      "why\n",
      "2\n",
      "what\n",
      "when\n",
      "why\n",
      "3\n",
      "what\n",
      "when\n",
      "why\n"
     ]
    }
   ],
   "source": [
    "# Write question words 3 times using nested loops\n",
    "\n",
    "number = [1,2,3]\n",
    "question = ['what','when','why']\n",
    "for i in number:\n",
    "    print(i)\n",
    "    for j in question:\n",
    "        print(j)"
   ]
  },
  {
   "cell_type": "code",
   "execution_count": 17,
   "id": "ba26def9",
   "metadata": {},
   "outputs": [
    {
     "name": "stdout",
     "output_type": "stream",
     "text": [
      "['lion', 'apple', 'cherry']\n",
      "['sheep', 'mango', 'tiger']\n"
     ]
    }
   ],
   "source": [
    "# Exercise 2 : Use single for loop to access each list\n",
    "\n",
    "list = [['lion','apple','cherry'],['sheep','mango','tiger']]\n",
    "for i in list:\n",
    "    print(i)"
   ]
  },
  {
   "cell_type": "code",
   "execution_count": 18,
   "id": "c9fafc5f",
   "metadata": {},
   "outputs": [
    {
     "name": "stdout",
     "output_type": "stream",
     "text": [
      "lion\n",
      "apple\n",
      "cherry\n",
      "sheep\n",
      "mango\n",
      "tiger\n"
     ]
    }
   ],
   "source": [
    "# Exercise 3 : Using Nested for loop access each individual element from list with in the list\n",
    "\n",
    "list = [['lion','apple','cherry'],['sheep','mango','tiger']]\n",
    "for i in list:\n",
    "    for j in i:\n",
    "        print(j)"
   ]
  },
  {
   "cell_type": "code",
   "execution_count": 20,
   "id": "6eb3409d",
   "metadata": {},
   "outputs": [
    {
     "name": "stdout",
     "output_type": "stream",
     "text": [
      "1 \n",
      "2 2 \n",
      "3 3 3 \n",
      "4 4 4 4 \n"
     ]
    }
   ],
   "source": [
    "#Exercise 5: print the following output\n",
    "#1\n",
    "#2 2\n",
    "#3 3 3\n",
    "#4 4 4 4\n",
    "\n",
    "for i in range(1,5):\n",
    "    for j in range(i):\n",
    "        print(i,end=\" \")\n",
    "    print()"
   ]
  },
  {
   "cell_type": "code",
   "execution_count": 21,
   "id": "d5c834fc",
   "metadata": {},
   "outputs": [
    {
     "name": "stdout",
     "output_type": "stream",
     "text": [
      "P y t h n   l g c   f r   k d s "
     ]
    }
   ],
   "source": [
    "# Exercise 6: Skip ovals to print from the sentence ‘Python Logic For Kids’\n",
    "for i in 'Python logic for kids':\n",
    "    if i == 'a' or i == 'e' or i == 'i' or i == 'o' or i == 'u':\n",
    "        continue\n",
    "    print(i,end=\" \")"
   ]
  },
  {
   "cell_type": "code",
   "execution_count": 22,
   "id": "544dca5e",
   "metadata": {},
   "outputs": [
    {
     "name": "stdout",
     "output_type": "stream",
     "text": [
      "A \n",
      "B C \n",
      "D E F \n",
      "G H I J \n",
      "K L M N O \n"
     ]
    }
   ],
   "source": [
    "# Exercise 10 : Print Alphabets\n",
    "\n",
    "val = 65\n",
    "for i in range(0,5):\n",
    "    for j in range(0,i+1):\n",
    "        ch = chr(val)\n",
    "        print(ch,end=\" \")\n",
    "        val = val+1\n",
    "    print()"
   ]
  },
  {
   "cell_type": "code",
   "execution_count": 23,
   "id": "078dc4ba",
   "metadata": {},
   "outputs": [
    {
     "name": "stdout",
     "output_type": "stream",
     "text": [
      "shubham shubham shubham \n",
      "shubham shubham shubham \n",
      "shubham shubham shubham \n"
     ]
    }
   ],
   "source": [
    "# Print your name in 3 rows and columns\n",
    "rows = int(input(\"Enter the # of rows: \"))\n",
    "columns = int(input(\"Enter the # of columns: \"))\n",
    "name = input(\"Enter your name here: \")\n",
    "\n",
    "for i in range(rows):\n",
    "    for j in range(columns):\n",
    "        print(name,end=\" \")\n",
    "    print()"
   ]
  }
 ],
 "metadata": {
  "kernelspec": {
   "display_name": "Python 3",
   "language": "python",
   "name": "python3"
  },
  "language_info": {
   "codemirror_mode": {
    "name": "ipython",
    "version": 3
   },
   "file_extension": ".py",
   "mimetype": "text/x-python",
   "name": "python",
   "nbconvert_exporter": "python",
   "pygments_lexer": "ipython3",
   "version": "3.13.5"
  }
 },
 "nbformat": 4,
 "nbformat_minor": 5
}
