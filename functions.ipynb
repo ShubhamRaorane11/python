{
 "cells": [
  {
   "cell_type": "code",
   "execution_count": 1,
   "metadata": {},
   "outputs": [
    {
     "name": "stdout",
     "output_type": "stream",
     "text": [
      "name:  Shubham\n",
      "marks: 90\n",
      "subject:  Maths\n",
      "name:  Rahul\n",
      "marks: 80\n",
      "subject:  Science\n",
      "name:  Rohit\n",
      "marks: 70\n",
      "subject:  English\n",
      "name:  Ravi\n",
      "marks: 60\n",
      "subject:  Hindi\n",
      "name:  Raj\n",
      "marks: 50\n",
      "subject:  Sanskrit\n"
     ]
    }
   ],
   "source": [
    "def result(name,marks,subject):\n",
    "    print(\"name: \", name)\n",
    "    print(\"marks:\", marks)\n",
    "    print(\"subject: \", subject)\n",
    "\n",
    "result(\"Shubham\", 90, \"Maths\")    \n",
    "result(\"Rahul\", 80, \"Science\")\n",
    "result(\"Rohit\", 70, \"English\")\n",
    "result(\"Ravi\", 60, \"Hindi\")\n",
    "result(\"Raj\", 50, \"Sanskrit\")"
   ]
  },
  {
   "cell_type": "code",
   "execution_count": 5,
   "metadata": {},
   "outputs": [
    {
     "name": "stdout",
     "output_type": "stream",
     "text": [
      "350\n",
      "70.0\n",
      "None\n"
     ]
    }
   ],
   "source": [
    "def add(a ,b, c, d, e):\n",
    "    total = a+b+c+d+e\n",
    "    percentage = total*100/500\n",
    "    print(total)\n",
    "    print(percentage)\n",
    "\n",
    "print(add(90,80,70,60,50))"
   ]
  },
  {
   "cell_type": "code",
   "execution_count": 9,
   "metadata": {},
   "outputs": [
    {
     "name": "stdout",
     "output_type": "stream",
     "text": [
      "This is Even Nmber\n",
      "This is Even Nmber\n"
     ]
    }
   ],
   "source": [
    "def CheckEvenOdd(Number):\n",
    "    if Number%2 == 0:\n",
    "        print(\"This is Even Nmber\")\n",
    "    else:\n",
    "        print(\"This is Odd Number\")\n",
    "\n",
    "CheckEvenOdd(26)\n",
    "CheckEvenOdd(267452)"
   ]
  },
  {
   "cell_type": "code",
   "execution_count": 4,
   "metadata": {},
   "outputs": [
    {
     "name": "stdout",
     "output_type": "stream",
     "text": [
      "11348\n"
     ]
    }
   ],
   "source": [
    "# function with return and argument value\n",
    "\n",
    "def add(a, b):\n",
    "    return a+b\n",
    "\n",
    "print(add(4563, 6785))"
   ]
  },
  {
   "cell_type": "code",
   "execution_count": 5,
   "metadata": {},
   "outputs": [
    {
     "name": "stdout",
     "output_type": "stream",
     "text": [
      "33333\n"
     ]
    }
   ],
   "source": [
    "def sub(a, b):\n",
    "    return a-b\n",
    "print(sub(98765, 65432))"
   ]
  },
  {
   "cell_type": "code",
   "execution_count": 7,
   "metadata": {},
   "outputs": [
    {
     "name": "stdout",
     "output_type": "stream",
     "text": [
      "67\n"
     ]
    }
   ],
   "source": [
    "# function with return value\n",
    "\n",
    "def get_number():\n",
    "    return 67\n",
    "print(get_number())"
   ]
  },
  {
   "cell_type": "code",
   "execution_count": 1,
   "metadata": {},
   "outputs": [
    {
     "name": "stdout",
     "output_type": "stream",
     "text": [
      "8\n",
      "98\n",
      "16\n",
      "438\n",
      "[98, 85, 72, 59, 46, 33, 29, 16]\n",
      "10\n"
     ]
    }
   ],
   "source": [
    "# Using built-in functions\n",
    "numbers = [16, 29, 33, 46, 59, 72, 85, 98]\n",
    "\n",
    "print(len(numbers)) \n",
    "print(max(numbers))  \n",
    "print(min(numbers))  \n",
    "print(sum(numbers))  \n",
    "print(sorted(numbers, reverse=True)) \n",
    "print(abs(-10))  "
   ]
  },
  {
   "cell_type": "code",
   "execution_count": 2,
   "metadata": {},
   "outputs": [
    {
     "name": "stdout",
     "output_type": "stream",
     "text": [
      "120\n"
     ]
    }
   ],
   "source": [
    "# Recursion\n",
    "def factorial(n):\n",
    "    if n == 0:\n",
    "        return 1\n",
    "    else:\n",
    "        return n * factorial(n - 1)\n",
    "\n",
    "print(factorial(5))"
   ]
  },
  {
   "cell_type": "code",
   "execution_count": 3,
   "metadata": {},
   "outputs": [
    {
     "name": "stdout",
     "output_type": "stream",
     "text": [
      "happy birthday to you\n",
      "You are old\n",
      "Happy birthday to you\n",
      "\n",
      "happy birthday to you\n",
      "You are old\n",
      "Happy birthday to you\n",
      "\n",
      "happy birthday to you\n",
      "You are old\n",
      "Happy birthday to you\n",
      "\n"
     ]
    }
   ],
   "source": [
    "# happy birthday 3 times\n",
    "\n",
    "def happy_birthday():\n",
    "    print(\"happy birthday to you\")\n",
    "    print(\"You are old\")\n",
    "    print(\"Happy birthday to you\")\n",
    "    print()\n",
    "\n",
    "happy_birthday()\n",
    "happy_birthday()\n",
    "happy_birthday()"
   ]
  },
  {
   "cell_type": "code",
   "execution_count": 12,
   "metadata": {},
   "outputs": [
    {
     "name": "stdout",
     "output_type": "stream",
     "text": [
      "happy birthday to joe\n",
      "You are 20 years old\n",
      "Happy birthday to you\n",
      "\n",
      "happy birthday to Steve\n",
      "You are 30 years old\n",
      "Happy birthday to you\n",
      "\n"
     ]
    }
   ],
   "source": [
    "def happy_birthday(name, age):\n",
    "    print(f\"happy birthday to {name}\")\n",
    "    print(f\"You are {age} years old\")\n",
    "    print(\"Happy birthday to you\")\n",
    "    print()\n",
    "\n",
    "happy_birthday(\"joe\",20)\n",
    "happy_birthday(\"Steve\",30)"
   ]
  },
  {
   "cell_type": "code",
   "execution_count": 14,
   "metadata": {},
   "outputs": [
    {
     "name": "stdout",
     "output_type": "stream",
     "text": [
      "Hello Pratibha\n",
      "Your bill of $59.90 is due: 09/04\n"
     ]
    }
   ],
   "source": [
    "def display_invoice(username, amount, due_date):\n",
    "    print(f\"Hello {username}\")\n",
    "    print(f\"Your bill of ${amount:.2f} is due: {due_date}\")\n",
    "\n",
    "display_invoice(\"Pratibha\",59.90,\"09/04\")"
   ]
  },
  {
   "cell_type": "code",
   "execution_count": 20,
   "metadata": {},
   "outputs": [
    {
     "name": "stdout",
     "output_type": "stream",
     "text": [
      "5\n",
      "-2\n",
      "6\n",
      "0.25\n"
     ]
    }
   ],
   "source": [
    "# return statement used to end a function and send the result back to the caller\n",
    "\n",
    "def add(x, y):\n",
    "    z = x + y\n",
    "    return z\n",
    "\n",
    "def subtract(x, y):\n",
    "    z = x - y\n",
    "    return z\n",
    "\n",
    "def multiply(x, y):\n",
    "    z = x * y\n",
    "    return z\n",
    "\n",
    "def divide(x, y):\n",
    "    z = x / y\n",
    "    return z\n",
    "\n",
    "print(add(1,4))\n",
    "print(subtract(2,4))\n",
    "print(multiply(2,3))\n",
    "print(divide(1,4))"
   ]
  },
  {
   "cell_type": "code",
   "execution_count": 25,
   "metadata": {},
   "outputs": [
    {
     "name": "stdout",
     "output_type": "stream",
     "text": [
      "Spongebob Squarepants\n"
     ]
    }
   ],
   "source": [
    "# create name\n",
    "def create_name(first, last):\n",
    "    first = first.capitalize()\n",
    "    last = last.capitalize()\n",
    "    return first + \" \" + last\n",
    "\n",
    "full_name = create_name(\"spongebob\",\"squarepants\")\n",
    "print(full_name)"
   ]
  },
  {
   "cell_type": "code",
   "execution_count": 31,
   "metadata": {},
   "outputs": [
    {
     "name": "stdout",
     "output_type": "stream",
     "text": [
      "900.0\n",
      "675.0\n",
      "765.0000000000001\n"
     ]
    }
   ],
   "source": [
    "# default arguments = A default value for certain parameters\n",
    "# default is used when that argument is omitted\n",
    "# make your functions more flexible, reduces # of arguments\n",
    "# 1.positional 2.default 3.keyword 4.arbitrary\n",
    "\n",
    "# default argument\n",
    "def net_price(list_price, discount=0, tax=0.5):\n",
    "    return list_price * (1 - discount) * (1 + tax)\n",
    "\n",
    "print(net_price(600))\n",
    "\n",
    "print(net_price(500, 0.1))\n",
    "print(net_price(1500,0.7,0.7))"
   ]
  },
  {
   "cell_type": "code",
   "execution_count": null,
   "metadata": {},
   "outputs": [],
   "source": [
    "# keyword arguments = an argument preceded by an identifier helps with  readability order of arguments doesn't matter\n",
    "\n",
    "def hello(greeting, title, first, last):\n",
    "    print(f\"{greeting} {title} {first} {last}\")\n",
    "\n",
    "hello(\"Hello\", title=\"mr\", last=\"Spongebob\", first=\"Squarepannts\")"
   ]
  },
  {
   "cell_type": "code",
   "execution_count": 7,
   "metadata": {},
   "outputs": [
    {
     "name": "stdout",
     "output_type": "stream",
     "text": [
      "1 2 3 4 5 6 7 8 9 10 "
     ]
    }
   ],
   "source": [
    "# end is a keyword argument\n",
    "\n",
    "for i in range(1, 11):\n",
    "    print(i, end=\" \")"
   ]
  },
  {
   "cell_type": "code",
   "execution_count": 8,
   "metadata": {},
   "outputs": [
    {
     "name": "stdout",
     "output_type": "stream",
     "text": [
      "1-123-456-7890\n"
     ]
    }
   ],
   "source": [
    "# create a function to generate a phone number\n",
    "\n",
    "def get_phone(country, area, first, last):\n",
    "    return f\"{country}-{area}-{first}-{last}\"\n",
    "\n",
    "phone_num = get_phone(country=1, area=123, first=456, last=7890)\n",
    "print(phone_num)"
   ]
  },
  {
   "cell_type": "code",
   "execution_count": null,
   "metadata": {},
   "outputs": [
    {
     "name": "stdout",
     "output_type": "stream",
     "text": [
      "3\n"
     ]
    }
   ],
   "source": [
    "# Arbitrary argumnent\n",
    "# * args = allows you to pass multiplr non key arguments\n",
    "# ** kwargs = allows you to pass multiple keyword arguments * unpacking operator\n",
    "\n",
    "def add(a,b):\n",
    "    return a + b\n",
    "\n",
    "print(add(1,2))"
   ]
  },
  {
   "cell_type": "code",
   "execution_count": 3,
   "metadata": {},
   "outputs": [
    {
     "name": "stdout",
     "output_type": "stream",
     "text": [
      "11\n"
     ]
    }
   ],
   "source": [
    "def add(*args):\n",
    "    total = 0\n",
    "    for args in args:\n",
    "        total += args\n",
    "    return total\n",
    "print(add(1,4,6))\n",
    "    \n"
   ]
  },
  {
   "cell_type": "code",
   "execution_count": 5,
   "metadata": {},
   "outputs": [
    {
     "name": "stdout",
     "output_type": "stream",
     "text": [
      "Dr Shubham Raorane "
     ]
    }
   ],
   "source": [
    "def display_name(*args):\n",
    "    for args in args:\n",
    "        print(args,end=\" \")\n",
    "\n",
    "display_name(\"Dr\",\"Shubham\",\"Raorane\")"
   ]
  },
  {
   "cell_type": "code",
   "execution_count": 12,
   "metadata": {},
   "outputs": [
    {
     "name": "stdout",
     "output_type": "stream",
     "text": [
      "<class 'dict'>\n",
      "street: 123 strt\n",
      "apt: 100\n",
      "city: mumbai\n",
      "state: maharashtra\n",
      "zipcode: 400066\n"
     ]
    }
   ],
   "source": [
    "def print_address(**kwargs):\n",
    "    print(type(kwargs))\n",
    "    for key,value in kwargs.items():\n",
    "        print(f\"{key}: {value}\")\n",
    "\n",
    "print_address(street=\"123 strt\",\n",
    "              apt=\"100\",\n",
    "              city=\"mumbai\",\n",
    "              state=\"maharashtra\",\n",
    "              zipcode=\"400066\")"
   ]
  },
  {
   "cell_type": "code",
   "execution_count": 20,
   "metadata": {},
   "outputs": [
    {
     "name": "stdout",
     "output_type": "stream",
     "text": [
      "DR Shubham Raorane II \n",
      "145 fake strt\n",
      "America Germany\n"
     ]
    }
   ],
   "source": [
    "def shipping_label(*args, **kwargs):\n",
    "    for arg in args:\n",
    "        print(arg, end=\" \")\n",
    "    print()\n",
    "    \n",
    "    print(f\"{kwargs.get('street')}\")\n",
    "    print(f\"{kwargs.get('city')} {kwargs.get('state')}\")\n",
    "\n",
    "shipping_label(\"DR\",\"Shubham\",\"Raorane\",\"II\",\n",
    "               street=\"145 fake strt\",\n",
    "               city=\"America\",\n",
    "               zipcode=\"678\",\n",
    "               state=\"Germany\")"
   ]
  }
 ],
 "metadata": {
  "kernelspec": {
   "display_name": "Python 3",
   "language": "python",
   "name": "python3"
  },
  "language_info": {
   "codemirror_mode": {
    "name": "ipython",
    "version": 3
   },
   "file_extension": ".py",
   "mimetype": "text/x-python",
   "name": "python",
   "nbconvert_exporter": "python",
   "pygments_lexer": "ipython3",
   "version": "3.13.5"
  }
 },
 "nbformat": 4,
 "nbformat_minor": 2
}
