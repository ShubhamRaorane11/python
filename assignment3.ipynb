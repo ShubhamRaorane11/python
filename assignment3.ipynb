{
 "cells": [
  {
   "cell_type": "code",
   "execution_count": 2,
   "id": "8bcef95f",
   "metadata": {},
   "outputs": [],
   "source": [
    "# using for loop"
   ]
  },
  {
   "cell_type": "code",
   "execution_count": 3,
   "id": "b0126eca",
   "metadata": {},
   "outputs": [
    {
     "name": "stdout",
     "output_type": "stream",
     "text": [
      "Total sum of 45 to 67 = 1288\n"
     ]
    }
   ],
   "source": [
    "# Write a Program to Calculate the Sum of Natural Numbers ?\n",
    "start = int(input(\"Enter the start number\"))\n",
    "end = int(input(\"Enter the end number\"))\n",
    "total_sum = 0\n",
    "\n",
    "for i in range(start, end + 1):\n",
    "    total_sum += i\n",
    "\n",
    "print(f\"Total sum of {start} to {end} = {total_sum}\")"
   ]
  },
  {
   "cell_type": "code",
   "execution_count": 4,
   "id": "3b8580ec",
   "metadata": {},
   "outputs": [
    {
     "name": "stdout",
     "output_type": "stream",
     "text": [
      "34 x 1 = 34\n",
      "34 x 2 = 68\n",
      "34 x 3 = 102\n",
      "34 x 4 = 136\n",
      "34 x 5 = 170\n",
      "34 x 6 = 204\n",
      "34 x 7 = 238\n",
      "34 x 8 = 272\n",
      "34 x 9 = 306\n",
      "34 x 10 = 340\n"
     ]
    }
   ],
   "source": [
    "# Program to generate a multiplication table using a for loop.\n",
    "number = int(input(\"Enter the number\"))\n",
    "\n",
    "for i in range(1,11):\n",
    "    print(f\"{number} x {i} = {number * i}\")"
   ]
  },
  {
   "cell_type": "code",
   "execution_count": 5,
   "id": "f44c9bc6",
   "metadata": {},
   "outputs": [
    {
     "name": "stdout",
     "output_type": "stream",
     "text": [
      "total count of alphabets: 7\n"
     ]
    }
   ],
   "source": [
    "# Program to count the number of alphabets in a string.\n",
    "words = input(\"Enter the words\")\n",
    "count = 0\n",
    "\n",
    "for char in words:\n",
    "    if char.isalpha():\n",
    "        count += 1\n",
    "\n",
    "print(f\"total count of alphabets: {count}\")"
   ]
  },
  {
   "cell_type": "code",
   "execution_count": 8,
   "id": "7ae37341",
   "metadata": {},
   "outputs": [
    {
     "name": "stdout",
     "output_type": "stream",
     "text": [
      "Total count of digits: 3\n"
     ]
    }
   ],
   "source": [
    "# Program to count the number of digits in an integer\n",
    "numbers = input(\"Enter the numbers here\")\n",
    "count = 0\n",
    "\n",
    "for digits in numbers:\n",
    "    if digits.isdigit():\n",
    "        count += 1\n",
    "print(f\"Total count of digits: {count}\")"
   ]
  },
  {
   "cell_type": "code",
   "execution_count": 9,
   "id": "453c89ef",
   "metadata": {},
   "outputs": [
    {
     "name": "stdout",
     "output_type": "stream",
     "text": [
      "Reversed number: 9756 \n"
     ]
    }
   ],
   "source": [
    "# Program to reverse a number.\n",
    "number = input(\"Enter the number\")\n",
    "reversed_number = \" \"\n",
    "\n",
    "for char in number:\n",
    "    reversed_number = char + reversed_number\n",
    "\n",
    "print(f\"Reversed number: {reversed_number}\")"
   ]
  },
  {
   "cell_type": "code",
   "execution_count": 10,
   "id": "aa9ec809",
   "metadata": {},
   "outputs": [
    {
     "name": "stdout",
     "output_type": "stream",
     "text": [
      "My favourite fruits are :\n",
      "apple\n",
      "banana\n",
      "cherry\n",
      "grapes\n",
      "mango\n"
     ]
    }
   ],
   "source": [
    "# List Iteration:\n",
    "favourite_fruits = ['apple','banana','cherry','grapes','mango']\n",
    "print(f\"My favourite fruits are :\")\n",
    "\n",
    "for fruits in favourite_fruits:\n",
    "    print(fruits)"
   ]
  },
  {
   "cell_type": "code",
   "execution_count": null,
   "id": "7ea4cbd6",
   "metadata": {},
   "outputs": [
    {
     "name": "stdout",
     "output_type": "stream",
     "text": [
      "The number of characters in the string are: 11\n"
     ]
    }
   ],
   "source": [
    "# Counting Characters:\n",
    "user = input(\"Enter the string\")\n",
    "char_count = 0\n",
    "\n",
    "for char in user:\n",
    "    char_count += 1\n",
    "print(f\"The number of characters in the string are: {char_count}\")"
   ]
  }
 ],
 "metadata": {
  "kernelspec": {
   "display_name": "Python 3",
   "language": "python",
   "name": "python3"
  },
  "language_info": {
   "codemirror_mode": {
    "name": "ipython",
    "version": 3
   },
   "file_extension": ".py",
   "mimetype": "text/x-python",
   "name": "python",
   "nbconvert_exporter": "python",
   "pygments_lexer": "ipython3",
   "version": "3.13.5"
  }
 },
 "nbformat": 4,
 "nbformat_minor": 5
}
