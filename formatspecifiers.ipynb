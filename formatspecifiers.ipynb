{
 "cells": [
  {
   "cell_type": "code",
   "execution_count": null,
   "id": "b8fbcf70",
   "metadata": {},
   "outputs": [
    {
     "name": "stdout",
     "output_type": "stream",
     "text": [
      "Price1 is $3.689\n",
      "Price2 is $-786.430\n",
      "Price3 is $34.890\n"
     ]
    }
   ],
   "source": [
    "# (number)f round to that many decimal places(fixed point)\n",
    "price1 = 3.689\n",
    "price2 = -786.43\n",
    "price3 = 34.89\n",
    "\n",
    "print(f\"Price1 is ${price1:.3f}\")\n",
    "print(f\"Price2 is ${price2:.3f}\")\n",
    "print(f\"Price3 is ${price3:.3f}\")"
   ]
  },
  {
   "cell_type": "code",
   "execution_count": null,
   "id": "a461ad9b",
   "metadata": {},
   "outputs": [
    {
     "name": "stdout",
     "output_type": "stream",
     "text": [
      "Price1 is $     3.689\n",
      "Price2 is $ -786.43\n",
      "Price3 is $34.89\n"
     ]
    }
   ],
   "source": [
    "#(number) allocate that many spaces\n",
    "price1 = 3.689\n",
    "price2 = -786.43\n",
    "price3 = 34.89\n",
    "\n",
    "print(f\"Price1 is ${price1:10}\")\n",
    "print(f\"Price2 is ${price2:8}\")\n",
    "print(f\"Price3 is ${price3:4}\")"
   ]
  },
  {
   "cell_type": "code",
   "execution_count": null,
   "id": "26c4a7fd",
   "metadata": {},
   "outputs": [
    {
     "name": "stdout",
     "output_type": "stream",
     "text": [
      "Price1 is $000003.689\n",
      "Price2 is $-000786.43\n",
      "Price3 is $0000034.89\n"
     ]
    }
   ],
   "source": [
    "#allocate and zero pad that many spaces\n",
    "price1 = 3.689\n",
    "price2 = -786.43\n",
    "price3 = 34.89\n",
    "\n",
    "print(f\"Price1 is ${price1:010}\")\n",
    "print(f\"Price2 is ${price2:010}\")\n",
    "print(f\"Price3 is ${price3:010}\")"
   ]
  },
  {
   "cell_type": "code",
   "execution_count": 8,
   "id": "e293217c",
   "metadata": {},
   "outputs": [
    {
     "name": "stdout",
     "output_type": "stream",
     "text": [
      "Price1 is $3.689     \n",
      "Price2 is $-786.43   \n",
      "Price3 is $34.89     \n"
     ]
    }
   ],
   "source": [
    "#left justified\n",
    "price1 = 3.689\n",
    "price2 = -786.43\n",
    "price3 = 34.89\n",
    "\n",
    "print(f\"Price1 is ${price1:<10}\")\n",
    "print(f\"Price2 is ${price2:<10}\")\n",
    "print(f\"Price3 is ${price3:<10}\")"
   ]
  },
  {
   "cell_type": "code",
   "execution_count": 9,
   "id": "bc52e121",
   "metadata": {},
   "outputs": [
    {
     "name": "stdout",
     "output_type": "stream",
     "text": [
      "Price1 is $  3.689   \n",
      "Price2 is $ -786.43  \n",
      "Price3 is $  34.89   \n"
     ]
    }
   ],
   "source": [
    "#center aligned\n",
    "price1 = 3.689\n",
    "price2 = -786.43\n",
    "price3 = 34.89\n",
    "\n",
    "print(f\"Price1 is ${price1:^10}\")\n",
    "print(f\"Price2 is ${price2:^10}\")\n",
    "print(f\"Price3 is ${price3:^10}\")"
   ]
  },
  {
   "cell_type": "code",
   "execution_count": 10,
   "id": "c8570c5c",
   "metadata": {},
   "outputs": [
    {
     "name": "stdout",
     "output_type": "stream",
     "text": [
      "Price1 is $+3.689\n",
      "Price2 is $-786.43\n",
      "Price3 is $+34.89\n"
     ]
    }
   ],
   "source": [
    "# + = use plus sign to indicate positive values\n",
    "price1 = 3.689\n",
    "price2 = -786.43\n",
    "price3 = 34.89\n",
    "\n",
    "print(f\"Price1 is ${price1:+}\")\n",
    "print(f\"Price2 is ${price2:=}\")\n",
    "print(f\"Price3 is ${price3:+}\")"
   ]
  },
  {
   "cell_type": "code",
   "execution_count": 13,
   "id": "b001e35a",
   "metadata": {},
   "outputs": [
    {
     "name": "stdout",
     "output_type": "stream",
     "text": [
      "Price1 is $+3,999.69\n",
      "Price2 is $-7,867.43\n",
      "Price3 is $+3,478.89\n"
     ]
    }
   ],
   "source": [
    "# , = comma seperator\n",
    "price1 = 3999.689789\n",
    "price2 = -7867.43\n",
    "price3 = 3478.89\n",
    "\n",
    "print(f\"Price1 is ${price1:+,.2f}\")\n",
    "print(f\"Price2 is ${price2:+,.2f}\")\n",
    "print(f\"Price3 is ${price3:+,.2f}\")"
   ]
  }
 ],
 "metadata": {
  "kernelspec": {
   "display_name": "Python 3",
   "language": "python",
   "name": "python3"
  },
  "language_info": {
   "codemirror_mode": {
    "name": "ipython",
    "version": 3
   },
   "file_extension": ".py",
   "mimetype": "text/x-python",
   "name": "python",
   "nbconvert_exporter": "python",
   "pygments_lexer": "ipython3",
   "version": "3.13.5"
  }
 },
 "nbformat": 4,
 "nbformat_minor": 5
}
