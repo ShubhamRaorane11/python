{
 "cells": [
  {
   "cell_type": "code",
   "execution_count": 5,
   "id": "204ac8b4",
   "metadata": {},
   "outputs": [
    {
     "name": "stdout",
     "output_type": "stream",
     "text": [
      "Integer value: 45\n",
      "Float value: 45.0\n"
     ]
    }
   ],
   "source": [
    "# Converting user input to integer and float\n",
    "\n",
    "user_input = input(\"Enter a number\")\n",
    "\n",
    "try:\n",
    "    int_value = int(user_input)\n",
    "    float_value = float(user_input)\n",
    "    print(f\"Integer value: {int_value}\")\n",
    "    print(f\"Float value: {float_value}\")\n",
    "except ValueError:\n",
    "    print(\"Invalid input. please enter a valid number\")"
   ]
  },
  {
   "cell_type": "code",
   "execution_count": 2,
   "id": "5de7eaf0",
   "metadata": {},
   "outputs": [
    {
     "name": "stdout",
     "output_type": "stream",
     "text": [
      "[12, 23, 34, 56]\n",
      "<class 'list'>\n"
     ]
    }
   ],
   "source": [
    "# Processing a list of string numbers and converting them to integers\n",
    "\n",
    "string_numbers = [\"12\",\"23\",\"34\",\"56\"]\n",
    "int_numbers = [int(num) for num in string_numbers]\n",
    "print(int_numbers)\n",
    "print(type(int_numbers))"
   ]
  },
  {
   "cell_type": "code",
   "execution_count": 1,
   "id": "97230bd6",
   "metadata": {},
   "outputs": [
    {
     "name": "stdout",
     "output_type": "stream",
     "text": [
      "[1, 2.0, 5.0, 6.7]\n"
     ]
    }
   ],
   "source": [
    "# Handling mixed data types in a list\n",
    "mixed_list = [1, \"2\", 5.0, \"6.7\"]\n",
    "\n",
    "converted_list = [float(item) if isinstance(item,str) else item for item in mixed_list]\n",
    "print(converted_list)"
   ]
  },
  {
   "cell_type": "code",
   "execution_count": 8,
   "id": "a2667db8",
   "metadata": {},
   "outputs": [
    {
     "name": "stdout",
     "output_type": "stream",
     "text": [
      "Type of a is: <class 'int'>\n",
      "Type of b is: <class 'float'>\n",
      "Type of c is: <class 'str'>\n",
      "Type of d is: <class 'bool'>\n",
      "Type of e is: <class 'NoneType'>\n",
      "Type of f is: <class 'list'>\n",
      "Type of g is: <class 'tuple'>\n",
      "Type of h is: <class 'dict'>\n",
      "Type of i is: <class 'set'>\n"
     ]
    }
   ],
   "source": [
    "#Write a Python program that prints the data type of each of the following variables\n",
    "\n",
    "a = 10\n",
    "print(f\"Type of a is: {type(a)}\")\n",
    "b = 3.14\n",
    "print(f\"Type of b is: {type(b)}\")\n",
    "c = \"Hello\"\n",
    "print(f\"Type of c is: {type(c)}\")\n",
    "d = True\n",
    "print(f\"Type of d is: {type(d)}\")\n",
    "e = None\n",
    "print(f\"Type of e is: {type(e)}\")\n",
    "f = [1,2,3]\n",
    "print(f\"Type of f is: {type(f)}\")\n",
    "g = (4,5,6)\n",
    "print(f\"Type of g is: {type(g)}\")\n",
    "h = {'name': 'Shubham', 'age': 19}\n",
    "print(f\"Type of h is: {type(h)}\")\n",
    "i = {1,2,3}\n",
    "print(f\"Type of i is: {type(i)}\")\n"
   ]
  },
  {
   "cell_type": "code",
   "execution_count": null,
   "id": "bbdd946e",
   "metadata": {},
   "outputs": [
    {
     "name": "stdout",
     "output_type": "stream",
     "text": [
      "45.0\n"
     ]
    }
   ],
   "source": [
    "#Write a Python program to\n",
    "#Convert an integer to float.\n",
    "\n",
    "int_value = 34\n",
    "\n",
    "int_value = int(float_value)\n",
    "print(float_value)"
   ]
  },
  {
   "cell_type": "code",
   "execution_count": 12,
   "id": "dfa55787",
   "metadata": {},
   "outputs": [
    {
     "name": "stdout",
     "output_type": "stream",
     "text": [
      "45.0\n",
      "<class 'float'>\n"
     ]
    }
   ],
   "source": [
    "#Convert a float to integer.\n",
    "\n",
    "int_value = 45\n",
    "\n",
    "float_value = float(int_value)\n",
    "print(float_value)\n",
    "print(type(float_value))"
   ]
  },
  {
   "cell_type": "code",
   "execution_count": null,
   "id": "295b8318",
   "metadata": {},
   "outputs": [],
   "source": [
    "#Convert a string to integer (input from user).\n",
    "\n",
    "number = int(input(\"Enter a number\"))\n",
    "string_number = (\"1\",\"2\",\"3\")\n"
   ]
  },
  {
   "cell_type": "code",
   "execution_count": null,
   "id": "501a5445",
   "metadata": {},
   "outputs": [
    {
     "name": "stdout",
     "output_type": "stream",
     "text": [
      "(1, 2, 3, 4, 5)\n",
      "<class 'tuple'>\n"
     ]
    }
   ],
   "source": [
    "#Convert a list to tuple.\n",
    "\n",
    "list_value = [1,2,3,4,5]\n",
    "\n",
    "tuple_value = tuple(list_value)\n",
    "print(tuple_value)\n",
    "print(type(tuple_value))"
   ]
  },
  {
   "cell_type": "code",
   "execution_count": 15,
   "id": "ad880efb",
   "metadata": {},
   "outputs": [
    {
     "name": "stdout",
     "output_type": "stream",
     "text": [
      "[1, 2, 3, 4]\n",
      "<class 'list'>\n"
     ]
    }
   ],
   "source": [
    "#convert a tuple to list\n",
    "tuple_value = (1,2,3,4)\n",
    "\n",
    "list_value = list(tuple_value)\n",
    "print(list_value)\n",
    "print(type(list_value))"
   ]
  },
  {
   "cell_type": "code",
   "execution_count": 16,
   "id": "80f522fd",
   "metadata": {},
   "outputs": [
    {
     "name": "stdout",
     "output_type": "stream",
     "text": [
      "Shubham Raorane\n"
     ]
    }
   ],
   "source": [
    "#Concatenate two strings.\n",
    "str_1 = \"Shubham\"\n",
    "str_2 = \"Raorane\"\n",
    "result = str_1 + \" \" + str_2\n",
    "print(result)"
   ]
  },
  {
   "cell_type": "code",
   "execution_count": 27,
   "id": "a3e9b183",
   "metadata": {},
   "outputs": [
    {
     "name": "stdout",
     "output_type": "stream",
     "text": [
      "123\n"
     ]
    }
   ],
   "source": [
    "#Add two integers.\n",
    "int1 = 34\n",
    "int2 = 89\n",
    "result1 = int1 + int2\n",
    "print(result1)"
   ]
  },
  {
   "cell_type": "code",
   "execution_count": null,
   "id": "bda2c5e7",
   "metadata": {},
   "outputs": [
    {
     "name": "stdout",
     "output_type": "stream",
     "text": [
      "[1, 2, 3, 4, 5, 3, 8, 7, 6, 9]\n"
     ]
    }
   ],
   "source": [
    "#Add two list\n",
    "list1 = [1,2,3,4,5]\n",
    "list2 = [3,8,7,6,9]\n",
    "result = list1 + list2\n",
    "print(result)"
   ]
  },
  {
   "cell_type": "code",
   "execution_count": 35,
   "id": "f25e11ae",
   "metadata": {},
   "outputs": [
    {
     "name": "stdout",
     "output_type": "stream",
     "text": [
      "Hello m\n",
      "y n\n",
      "ame is Shubham\n",
      "[12, 56, 78]\n",
      "[67]\n"
     ]
    }
   ],
   "source": [
    "# slicing a string and list\n",
    "s = \"Hello my name is Shubham\"\n",
    "\n",
    "print(s[0:7])\n",
    "print(s[7:10])\n",
    "print(s[10:])\n",
    "\n",
    "list = [12,56,78,90,34,67]\n",
    "print(list[0:3])\n",
    "print(list[5:])"
   ]
  },
  {
   "cell_type": "code",
   "execution_count": 37,
   "id": "0dece377",
   "metadata": {},
   "outputs": [
    {
     "name": "stdout",
     "output_type": "stream",
     "text": [
      "ShubhamShubhamShubhamShubhamShubhamShubhamShubham\n"
     ]
    }
   ],
   "source": [
    "#Multiply a string with an integer.\n",
    "\n",
    "string = \"Shubham\"\n",
    "int = 7\n",
    "result = string * int\n",
    "print(result)"
   ]
  }
 ],
 "metadata": {
  "kernelspec": {
   "display_name": "Python 3",
   "language": "python",
   "name": "python3"
  },
  "language_info": {
   "codemirror_mode": {
    "name": "ipython",
    "version": 3
   },
   "file_extension": ".py",
   "mimetype": "text/x-python",
   "name": "python",
   "nbconvert_exporter": "python",
   "pygments_lexer": "ipython3",
   "version": "3.13.5"
  }
 },
 "nbformat": 4,
 "nbformat_minor": 5
}
