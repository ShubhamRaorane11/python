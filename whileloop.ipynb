{
 "cells": [
  {
   "cell_type": "code",
   "execution_count": 5,
   "id": "e8ceb44a",
   "metadata": {},
   "outputs": [
    {
     "name": "stdout",
     "output_type": "stream",
     "text": [
      "you did not enter your name\n",
      "Hello shu\n"
     ]
    }
   ],
   "source": [
    "name = input(\"Enter your name: \")\n",
    "\n",
    "while name == \"\":\n",
    "    print(\"you did not enter your name\")\n",
    "    name = input(\"Enter your name: \")\n",
    "print(f\"Hello {name}\")"
   ]
  },
  {
   "cell_type": "code",
   "execution_count": 7,
   "id": "c6fe9d76",
   "metadata": {},
   "outputs": [
    {
     "name": "stdout",
     "output_type": "stream",
     "text": [
      "Age cannot be negative\n",
      "Age cannot be negative\n",
      "You are 67 years old\n"
     ]
    }
   ],
   "source": [
    "age = int(input(\"Enter your age: \"))\n",
    "\n",
    "while age < 0:\n",
    "    print(\"Age cannot be negative\")\n",
    "    age = int(input(\"Enter your age: \"))\n",
    "print(f\"You are {age} years old\")"
   ]
  },
  {
   "cell_type": "code",
   "execution_count": 8,
   "id": "7a7ad14e",
   "metadata": {},
   "outputs": [
    {
     "name": "stdout",
     "output_type": "stream",
     "text": [
      "You like pizza\n",
      "bye\n"
     ]
    }
   ],
   "source": [
    "food = input(\"enter a food you like (q to quit): \")\n",
    "\n",
    "while not food == \"q\":\n",
    "    print(f\"You like {food}\")\n",
    "    food = input(\"Enter another food you like (q to quit): \")\n",
    "\n",
    "print(\"bye\")"
   ]
  },
  {
   "cell_type": "code",
   "execution_count": 11,
   "id": "6969bb6d",
   "metadata": {},
   "outputs": [
    {
     "name": "stdout",
     "output_type": "stream",
     "text": [
      "67 is not valid\n",
      "45 is not valid\n",
      "Your number is 1\n"
     ]
    }
   ],
   "source": [
    "num = int(input(\"Enter a number between 1 to 10: \"))\n",
    "\n",
    "while num < 1 or num > 10:\n",
    "    print(f\"{num} is not valid\")\n",
    "    num = int(input(\"Enter a number between 1 to 10: \"))\n",
    "print(f\"Your number is {num}\")"
   ]
  }
 ],
 "metadata": {
  "kernelspec": {
   "display_name": "Python 3",
   "language": "python",
   "name": "python3"
  },
  "language_info": {
   "codemirror_mode": {
    "name": "ipython",
    "version": 3
   },
   "file_extension": ".py",
   "mimetype": "text/x-python",
   "name": "python",
   "nbconvert_exporter": "python",
   "pygments_lexer": "ipython3",
   "version": "3.13.5"
  }
 },
 "nbformat": 4,
 "nbformat_minor": 5
}
