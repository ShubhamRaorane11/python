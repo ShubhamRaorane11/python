{
 "cells": [
  {
   "cell_type": "code",
   "execution_count": null,
   "metadata": {},
   "outputs": [
    {
     "name": "stdout",
     "output_type": "stream",
     "text": [
      "Child class method.\n"
     ]
    }
   ],
   "source": [
    "#Single Inheritance\n",
    "class Parent:\n",
    "    def method(self):\n",
    "        print(\"Parent class method.\")\n",
    "\n",
    "class Child(Parent):\n",
    "    def method(self):\n",
    "        print(\"Child class method.\")\n",
    "\n",
    "child = Child()\n",
    "child.method()  "
   ]
  },
  {
   "cell_type": "code",
   "execution_count": 2,
   "metadata": {},
   "outputs": [
    {
     "name": "stdout",
     "output_type": "stream",
     "text": [
      "Base1 class method.\n",
      "Base2 class method.\n",
      "Child class method.\n"
     ]
    }
   ],
   "source": [
    "#Multiple Inheritance\n",
    "class Base1:\n",
    "    def method1(self):\n",
    "        print(\"Base1 class method.\")\n",
    "\n",
    "class Base2:\n",
    "    def method2(self):\n",
    "        print(\"Base2 class method.\")\n",
    "\n",
    "class Child(Base1, Base2):\n",
    "    def method(self):\n",
    "        print(\"Child class method.\")\n",
    "\n",
    "child = Child()\n",
    "child.method1()  \n",
    "child.method2()  \n",
    "child.method()   \n"
   ]
  },
  {
   "cell_type": "code",
   "execution_count": 3,
   "metadata": {},
   "outputs": [
    {
     "name": "stdout",
     "output_type": "stream",
     "text": [
      "Child class method.\n"
     ]
    }
   ],
   "source": [
    "#Multilevel Inheritance\n",
    "class Grandparent:\n",
    "    def method(self):\n",
    "        print(\"Grandparent class method.\")\n",
    "        self.child_method()\n",
    "\n",
    "class Parent(Grandparent):\n",
    "    def child_method(self):\n",
    "        print(\"Parent class method.\")\n",
    "\n",
    "class Child(Parent):\n",
    "    def method(self):\n",
    "        print(\"Child class method.\")\n",
    "\n",
    "child = Child()\n",
    "child.method()  "
   ]
  },
  {
   "cell_type": "code",
   "execution_count": 4,
   "metadata": {},
   "outputs": [
    {
     "name": "stdout",
     "output_type": "stream",
     "text": [
      "Child1 class method.\n",
      "Child2 class method.\n"
     ]
    }
   ],
   "source": [
    "#Hierarchical Inheritance\n",
    "class Base:\n",
    "    def method(self):\n",
    "        print(\"Base class method.\") \n",
    "class Child1(Base):\n",
    "    def method(self):\n",
    "        print(\"Child1 class method.\")\n",
    "\n",
    "class Child2(Base):\n",
    "    def method(self):\n",
    "        print(\"Child2 class method.\")\n",
    "\n",
    "child1 = Child1()\n",
    "child2 = Child2()\n",
    "child1.method()  \n",
    "child2.method()  "
   ]
  },
  {
   "cell_type": "code",
   "execution_count": 5,
   "metadata": {},
   "outputs": [
    {
     "name": "stdout",
     "output_type": "stream",
     "text": [
      "Child class method.\n"
     ]
    }
   ],
   "source": [
    "#Method Overriding\n",
    "class Parent:\n",
    "    def method(self):\n",
    "        print(\"Parent class method.\")\n",
    "\n",
    "class Child(Parent):\n",
    "    def method(self):\n",
    "        print(\"Child class method.\")\n",
    "\n",
    "child = Child()\n",
    "child.method() "
   ]
  },
  {
   "cell_type": "code",
   "execution_count": 8,
   "metadata": {},
   "outputs": [
    {
     "name": "stdout",
     "output_type": "stream",
     "text": [
      "Employee: Joe, Position: Manager\n",
      "Team Size: 15\n"
     ]
    }
   ],
   "source": [
    "# Inheritance in an Employee Management System\n",
    "class Employee:\n",
    "    def __init__(self, name, position):\n",
    "        self.name = name\n",
    "        self.position = position\n",
    "\n",
    "    def show_details(self):\n",
    "        print(f\"Employee: {self.name}, Position: {self.position}\")\n",
    "\n",
    "class Manager(Employee):\n",
    "    def __init__(self, name, position, team_size):\n",
    "        super().__init__(name, position)\n",
    "        self.team_size = team_size\n",
    "\n",
    "    def show_details(self):\n",
    "        super().show_details()\n",
    "        print(f\"Team Size: {self.team_size}\")\n",
    "\n",
    "# Example usage\n",
    "manager = Manager(\"Joe\", \"Manager\", 15)\n",
    "manager.show_details()"
   ]
  }
 ],
 "metadata": {
  "kernelspec": {
   "display_name": "Python 3",
   "language": "python",
   "name": "python3"
  },
  "language_info": {
   "codemirror_mode": {
    "name": "ipython",
    "version": 3
   },
   "file_extension": ".py",
   "mimetype": "text/x-python",
   "name": "python",
   "nbconvert_exporter": "python",
   "pygments_lexer": "ipython3",
   "version": "3.12.5"
  }
 },
 "nbformat": 4,
 "nbformat_minor": 2
}
