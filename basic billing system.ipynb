{
 "cells": [
  {
   "cell_type": "code",
   "execution_count": 2,
   "id": "08fb5f14",
   "metadata": {},
   "outputs": [
    {
     "name": "stdout",
     "output_type": "stream",
     "text": [
      "samosa = 100.0\n",
      "kachori = 200.0\n",
      "coke = 300.0\n",
      "Total :  600.0\n"
     ]
    }
   ],
   "source": [
    "# basic billing system\n",
    "product = []\n",
    "price = []\n",
    "\n",
    "size = int(input(\"Enter the size of the list: \"))\n",
    "\n",
    "for i in range(size):\n",
    "    i = input(\"Enter the product: \")\n",
    "    product.append(i)\n",
    "\n",
    "for i in range(size):\n",
    "    i = input(\"Enter the price: \")\n",
    "    price.append(float(i))\n",
    "\n",
    "for i in range(size):\n",
    "    print(product[i], \"=\" , price[i])\n",
    "\n",
    "total = sum(price)\n",
    "yes = input(\"Do you want to add GST[Y/N]:\")\n",
    "\n",
    "if yes == \"Y\":\n",
    "    gst_percentage = float(input(\"Enter gst percentage: \"))\n",
    "    gst_amount = (total * gst_percentage) / 100\n",
    "    final_total = total + gst_amount\n",
    "else:\n",
    "    final_total = total\n",
    "\n",
    "print(\"Total : \", total)\n",
    "if yes == \"Y\":\n",
    "    print(\"GST: \", gst_percentage, \"%\")\n",
    "    print(\"Final Total: \", final_total)\n",
    "    \n"
   ]
  }
 ],
 "metadata": {
  "kernelspec": {
   "display_name": "Python 3",
   "language": "python",
   "name": "python3"
  },
  "language_info": {
   "codemirror_mode": {
    "name": "ipython",
    "version": 3
   },
   "file_extension": ".py",
   "mimetype": "text/x-python",
   "name": "python",
   "nbconvert_exporter": "python",
   "pygments_lexer": "ipython3",
   "version": "3.12.5"
  }
 },
 "nbformat": 4,
 "nbformat_minor": 5
}
