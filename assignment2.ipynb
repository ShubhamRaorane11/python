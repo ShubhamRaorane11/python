{
 "cells": [
  {
   "cell_type": "code",
   "execution_count": 3,
   "id": "2240e0ce",
   "metadata": {},
   "outputs": [
    {
     "name": "stdout",
     "output_type": "stream",
     "text": [
      "Your grade is C\n"
     ]
    }
   ],
   "source": [
    "# This program prompts the user to enter their exam score and then classifies their grade based on the score.\n",
    "\n",
    "grade = int(input(\"Enter the marks of the student\"))\n",
    "\n",
    "if grade > 80:\n",
    "    print(\"Your grade is A\")\n",
    "elif grade > 70:\n",
    "    print(\"Your grade is B\")\n",
    "elif grade > 50:\n",
    "    print(\"Your grade is C\")\n",
    "else:\n",
    "    print(\"Your grade is F\")"
   ]
  },
  {
   "cell_type": "code",
   "execution_count": 5,
   "id": "53fe7b53",
   "metadata": {},
   "outputs": [
    {
     "name": "stdout",
     "output_type": "stream",
     "text": [
      "56 is greater than 45\n"
     ]
    }
   ],
   "source": [
    "# This program prompts the user to enter two numbers and compares them to determine which one is greater or if they are equal.\n",
    "\n",
    "number1 = int(input(\"Enter the first number\"))\n",
    "number2 = int(input(\"Enter the second number\"))\n",
    "\n",
    "if number1 > number2:\n",
    "    print(f\"{number1} is greater than {number2}\")\n",
    "else:\n",
    "    print(f\"{number2} is greater than {number1}\")"
   ]
  },
  {
   "cell_type": "code",
   "execution_count": 1,
   "id": "ecbfb593",
   "metadata": {},
   "outputs": [
    {
     "name": "stdout",
     "output_type": "stream",
     "text": [
      "2000 is a leap year.\n"
     ]
    }
   ],
   "source": [
    "# This program prompts the user to enter a year and checks if it's a leap year or not\n",
    "\n",
    "year = int(input(\"Enter the year\"))\n",
    "if (year % 4 == 0 and year % 100 != 0) or (year % 400 == 0):\n",
    "    print(year, \"is a leap year.\")\n",
    "else:\n",
    "    print(year, \"is not a leap year.\")"
   ]
  },
  {
   "cell_type": "code",
   "execution_count": 3,
   "id": "20a9f1d0",
   "metadata": {},
   "outputs": [
    {
     "name": "stdout",
     "output_type": "stream",
     "text": [
      "Number is negative\n"
     ]
    }
   ],
   "source": [
    "# This program prompts the user to enter a number and determines whether it's positive, negative, or zero.\n",
    "number = int(input(\"Enter the number\"))\n",
    "\n",
    "if number > 0:\n",
    "    print(\"Number is positive\")\n",
    "elif number < 0:\n",
    "    print(\"Number is negative\")\n",
    "else:\n",
    "    print(\"Number is zero\")\n"
   ]
  },
  {
   "cell_type": "code",
   "execution_count": null,
   "id": "ac8b24c6",
   "metadata": {},
   "outputs": [
    {
     "name": "stdout",
     "output_type": "stream",
     "text": [
      "Character is consonant\n"
     ]
    }
   ],
   "source": [
    "# This program prompts the user to enter a character and checks if it's a vowel or a consonant.\n",
    "letter = input(\"Enter the letter\")\n",
    "\n",
    "if letter.lower() in ['a','e','i','o','u']:\n",
    "    print(\"Character is a vowel\")\n",
    "else:\n",
    "    print(\"Character is consonant\")"
   ]
  },
  {
   "cell_type": "code",
   "execution_count": 6,
   "id": "f0ea874e",
   "metadata": {},
   "outputs": [
    {
     "name": "stdout",
     "output_type": "stream",
     "text": [
      "You are a teenager\n"
     ]
    }
   ],
   "source": [
    "# This program prompts the user to enter their age and classifies them into different age groups\n",
    "age = int(input(\"Enter the age\"))\n",
    "\n",
    "if age > 18:\n",
    "    print(\"You are an adult\")\n",
    "else:\n",
    "    print(\"You are a teenager\")"
   ]
  },
  {
   "cell_type": "code",
   "execution_count": 8,
   "id": "12f53172",
   "metadata": {},
   "outputs": [
    {
     "name": "stdout",
     "output_type": "stream",
     "text": [
      "It is an odd number\n"
     ]
    }
   ],
   "source": [
    "# This program prompts the user to enter a number and determines whether it's odd or even\n",
    "number = int(input(\"Enter the number\"))\n",
    "\n",
    "if number % 2 == 0:\n",
    "    print(\"It is an even number\")\n",
    "else:\n",
    "    print(\"It is an odd number\")"
   ]
  }
 ],
 "metadata": {
  "kernelspec": {
   "display_name": "Python 3",
   "language": "python",
   "name": "python3"
  },
  "language_info": {
   "codemirror_mode": {
    "name": "ipython",
    "version": 3
   },
   "file_extension": ".py",
   "mimetype": "text/x-python",
   "name": "python",
   "nbconvert_exporter": "python",
   "pygments_lexer": "ipython3",
   "version": "3.13.5"
  }
 },
 "nbformat": 4,
 "nbformat_minor": 5
}
