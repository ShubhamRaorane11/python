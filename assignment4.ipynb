{
 "cells": [
  {
   "cell_type": "code",
   "execution_count": 1,
   "id": "9517c26c",
   "metadata": {},
   "outputs": [],
   "source": [
    "# while loop"
   ]
  },
  {
   "cell_type": "code",
   "execution_count": null,
   "id": "3d0f3ea4",
   "metadata": {},
   "outputs": [
    {
     "name": "stdout",
     "output_type": "stream",
     "text": [
      "Countdown: 11\n",
      "Countdown: 10\n",
      "Countdown: 9\n",
      "Countdown: 8\n",
      "Countdown: 7\n",
      "Countdown: 6\n",
      "Countdown: 5\n",
      "Countdown: 4\n",
      "Countdown: 3\n",
      "Countdown: 2\n"
     ]
    }
   ],
   "source": [
    "# Write a program that takes an integer as input and prints a countdown from that number to 1 using a while loop.\n",
    "number = int(input(\"Enter the number\"))\n",
    "while number > 0:\n",
    "    print(f\"Countdown: {number}\")\n",
    "    number -= 1"
   ]
  },
  {
   "cell_type": "code",
   "execution_count": 9,
   "id": "fcf1bd74",
   "metadata": {},
   "outputs": [
    {
     "name": "stdout",
     "output_type": "stream",
     "text": [
      "Welcome to the password guessing game\n",
      "the password is like a leader and guess it\n",
      "You have guessed it correctly\n"
     ]
    }
   ],
   "source": [
    "# Password Guessing Game:\n",
    "secret_password = \"Lord\"\n",
    "\n",
    "guess = \" \"\n",
    "print(\"Welcome to the password guessing game\")\n",
    "print(\"the password is like a leader and guess it\")\n",
    "\n",
    "while guess != secret_password:\n",
    "    guess = input(\"Enter your guess here\")\n",
    "\n",
    "    if guess == secret_password:\n",
    "        print(\"You have guessed it correctly\")\n",
    "    else:\n",
    "        print(\"You have failed\")\n"
   ]
  },
  {
   "cell_type": "code",
   "execution_count": 8,
   "id": "3d7db611",
   "metadata": {},
   "outputs": [
    {
     "name": "stdout",
     "output_type": "stream",
     "text": [
      "2\n",
      "4\n",
      "6\n",
      "8\n",
      "10\n"
     ]
    }
   ],
   "source": [
    "# Write a program that generates and prints the first 5 even numbers starting from 1 using a while loop\n",
    "count = 0\n",
    "\n",
    "number = 1\n",
    "\n",
    "while count < 5:\n",
    "    if number % 2 == 0:\n",
    "        print(number)\n",
    "        count += 1\n",
    "    number += 1\n"
   ]
  },
  {
   "cell_type": "code",
   "execution_count": 2,
   "id": "19adb658",
   "metadata": {},
   "outputs": [
    {
     "name": "stdout",
     "output_type": "stream",
     "text": [
      "The factorial of 12 is 479001600\n"
     ]
    }
   ],
   "source": [
    "# Write a program that takes an integer as input and calculates its factorial starting from 1 using a while loop.\n",
    "number = int(input(\"Enter the number\"))\n",
    "\n",
    "factorial = 1\n",
    "i = 1\n",
    "\n",
    "while i <= number:\n",
    "    factorial = factorial * i\n",
    "    i += 1\n",
    "\n",
    "print(f\"The factorial of {number} is {factorial}\")"
   ]
  }
 ],
 "metadata": {
  "kernelspec": {
   "display_name": "Python 3",
   "language": "python",
   "name": "python3"
  },
  "language_info": {
   "codemirror_mode": {
    "name": "ipython",
    "version": 3
   },
   "file_extension": ".py",
   "mimetype": "text/x-python",
   "name": "python",
   "nbconvert_exporter": "python",
   "pygments_lexer": "ipython3",
   "version": "3.13.5"
  }
 },
 "nbformat": 4,
 "nbformat_minor": 5
}
