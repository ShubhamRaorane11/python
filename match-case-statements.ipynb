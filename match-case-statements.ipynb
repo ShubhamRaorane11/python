{
 "cells": [
  {
   "cell_type": "code",
   "execution_count": 7,
   "id": "a72d09ba",
   "metadata": {},
   "outputs": [
    {
     "name": "stdout",
     "output_type": "stream",
     "text": [
      "Not valid\n"
     ]
    }
   ],
   "source": [
    "# match case statement(switch) = an alternative to using 'elif' statements\n",
    "#                            Execute some code if a value matches a 'case'\n",
    "#                           benefits: cleaner and syntax is more readable\n",
    "\n",
    "def day_of_week(day):\n",
    "    match day:\n",
    "        case 1:\n",
    "            return \"It is Monday\"\n",
    "        case 2:\n",
    "            return \"It is Tuesday\"\n",
    "        case 3:\n",
    "            return \"It is Wednesday\"\n",
    "        case 4:\n",
    "            return \"It is Thursday\"\n",
    "        case 5:\n",
    "            return \"It is Friday\"\n",
    "        case 6:\n",
    "            return \"It is Saturday\"\n",
    "        case 7:\n",
    "            return \"It is Sunday\"\n",
    "        case _:\n",
    "            return \"Not valid\"\n",
    "    \n",
    "print(day_of_week(\"p\"))"
   ]
  },
  {
   "cell_type": "code",
   "execution_count": 11,
   "id": "a02847c0",
   "metadata": {},
   "outputs": [
    {
     "name": "stdout",
     "output_type": "stream",
     "text": [
      "False\n"
     ]
    }
   ],
   "source": [
    "def is_weekend(day):\n",
    "    match day:\n",
    "        case \"Sunday\":\n",
    "            return True\n",
    "        case \"Monday\":\n",
    "            return False\n",
    "        case \"Tuesday\":\n",
    "            return False\n",
    "        case \"Wednesday\":\n",
    "            return False\n",
    "        case \"Thursday\":\n",
    "            return False\n",
    "        case \"Friday\":\n",
    "            return False\n",
    "        case \"Saturday\":\n",
    "            return True\n",
    "        case _:\n",
    "            return False\n",
    "    \n",
    "print(is_weekend(\"p\"))"
   ]
  },
  {
   "cell_type": "code",
   "execution_count": 13,
   "id": "b7eac7ee",
   "metadata": {},
   "outputs": [
    {
     "name": "stdout",
     "output_type": "stream",
     "text": [
      "False\n"
     ]
    }
   ],
   "source": [
    "def is_week(day):\n",
    "    match day:\n",
    "        case \"Saturday\" | \"Sunday\":\n",
    "            return True\n",
    "        case \"Monday\" | \"Tuesday\" | \"Wednesday\" | \"Thursday\" | \"Friday\":\n",
    "            return False\n",
    "        case _:\n",
    "            return False\n",
    "        \n",
    "print(is_week(\"Monday\"))"
   ]
  }
 ],
 "metadata": {
  "kernelspec": {
   "display_name": "Python 3",
   "language": "python",
   "name": "python3"
  },
  "language_info": {
   "codemirror_mode": {
    "name": "ipython",
    "version": 3
   },
   "file_extension": ".py",
   "mimetype": "text/x-python",
   "name": "python",
   "nbconvert_exporter": "python",
   "pygments_lexer": "ipython3",
   "version": "3.13.5"
  }
 },
 "nbformat": 4,
 "nbformat_minor": 5
}
