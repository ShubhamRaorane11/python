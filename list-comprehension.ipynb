{
 "cells": [
  {
   "cell_type": "code",
   "execution_count": 1,
   "id": "1a1bdf41",
   "metadata": {},
   "outputs": [
    {
     "name": "stdout",
     "output_type": "stream",
     "text": [
      "[2, 4, 6, 8, 10, 12, 14, 16, 18, 20]\n"
     ]
    }
   ],
   "source": [
    "# list comprehension = A concise way to create list in Python\n",
    "#                   Compact and easier to read than traditional loops\n",
    "#                   [expression for value in iterable if condition]\n",
    "\n",
    "doubles = [x * 2 for x in range(1,11)]\n",
    "print(doubles)\n"
   ]
  },
  {
   "cell_type": "code",
   "execution_count": 5,
   "id": "05f4c31c",
   "metadata": {},
   "outputs": [
    {
     "name": "stdout",
     "output_type": "stream",
     "text": [
      "[3, 6, 9, 12, 15, 18, 21, 24, 27, 30]\n",
      "[1, 4, 9, 16, 25, 36, 49, 64, 81, 100, 121, 144, 169, 196, 225, 256, 289, 324, 361, 400, 441, 484, 529, 576, 625, 676, 729, 784, 841, 900, 961, 1024, 1089]\n"
     ]
    }
   ],
   "source": [
    "triples = [y * 3 for y in range(1,11)]\n",
    "print(triples)\n",
    "\n",
    "squares = [z * z for z in range(1,34)]\n",
    "print(squares)"
   ]
  },
  {
   "cell_type": "code",
   "execution_count": 7,
   "id": "916f412f",
   "metadata": {},
   "outputs": [
    {
     "name": "stdout",
     "output_type": "stream",
     "text": [
      "['APPLE', 'ORANGE', 'BANANA']\n",
      "['g', 'c', 'b']\n"
     ]
    }
   ],
   "source": [
    "fruits = [\"apple\", \"orange\",\"banana\"]\n",
    "fruits = [fruit.upper() for fruit in fruits]\n",
    "print(fruits)\n",
    "\n",
    "\n",
    "fruits = [\"guava\", \"chiku\",\"banana\"]\n",
    "fruits = [fruit[0] for fruit in fruits]\n",
    "print(fruits)"
   ]
  },
  {
   "cell_type": "code",
   "execution_count": 13,
   "id": "ac7ecacf",
   "metadata": {},
   "outputs": [
    {
     "name": "stdout",
     "output_type": "stream",
     "text": [
      "[1, 3, 4, 5]\n",
      "[-2, -6]\n",
      "[-2, 4, -6]\n",
      "[1, 3, 5]\n"
     ]
    }
   ],
   "source": [
    "numbers = [1,-2,3,4,5,-6]\n",
    "positive_nums = [num for num in numbers if num >= 0]\n",
    "print(positive_nums)\n",
    "\n",
    "numbers = [1,-2,3,4,5,-6]\n",
    "negative_nums = [num for num in numbers if num <= 0]\n",
    "print(negative_nums)\n",
    "\n",
    "numbers = [1,-2,3,4,5,-6]\n",
    "even_nums = [num for num in numbers if num % 2 == 0]\n",
    "print(even_nums)\n",
    "\n",
    "numbers = [1,-2,3,4,5,-6]\n",
    "odd_nums = [num for num in numbers if num % 2 == 1]\n",
    "print(odd_nums)"
   ]
  },
  {
   "cell_type": "code",
   "execution_count": 14,
   "id": "d23e7985",
   "metadata": {},
   "outputs": [
    {
     "name": "stdout",
     "output_type": "stream",
     "text": [
      "[85, 79, 90, 61]\n"
     ]
    }
   ],
   "source": [
    "grades = [85, 42, 79, 90, 56, 61]\n",
    "passing_grades = [grade for grade in grades if grade >= 60]\n",
    "print(passing_grades)"
   ]
  }
 ],
 "metadata": {
  "kernelspec": {
   "display_name": "Python 3",
   "language": "python",
   "name": "python3"
  },
  "language_info": {
   "codemirror_mode": {
    "name": "ipython",
    "version": 3
   },
   "file_extension": ".py",
   "mimetype": "text/x-python",
   "name": "python",
   "nbconvert_exporter": "python",
   "pygments_lexer": "ipython3",
   "version": "3.13.5"
  }
 },
 "nbformat": 4,
 "nbformat_minor": 5
}
