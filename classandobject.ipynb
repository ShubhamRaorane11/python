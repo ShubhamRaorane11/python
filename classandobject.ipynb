{
 "cells": [
  {
   "cell_type": "code",
   "execution_count": 1,
   "metadata": {},
   "outputs": [],
   "source": [
    "# create a class\n",
    "\n",
    "class Bank:\n",
    "    def info():\n",
    "        print(\"Bank information\")\n",
    "        print(\"Bank name : SVC\")\n",
    "        print(\"Bank address : 123 st road\")\n",
    "    def creditcard():\n",
    "        print(\"credit card information\")\n",
    "        print(\"card type : Visa\")\n",
    "        print(\"card number: 1234-5674-6754-9876\")\n",
    "    def cardlimit():\n",
    "        print(\"the card limit is : 5000$\")"
   ]
  },
  {
   "cell_type": "code",
   "execution_count": 2,
   "metadata": {},
   "outputs": [
    {
     "name": "stdout",
     "output_type": "stream",
     "text": [
      "Bank information\n",
      "Bank name : SVC\n",
      "Bank address : 123 st road\n",
      "the card limit is : 5000$\n",
      "credit card information\n",
      "card type : Visa\n",
      "card number: 1234-5674-6754-9876\n"
     ]
    }
   ],
   "source": [
    "# create an object\n",
    "\n",
    "mybank = Bank\n",
    "mybank.info()\n",
    "mybank.cardlimit()\n",
    "mybank.creditcard()"
   ]
  },
  {
   "cell_type": "code",
   "execution_count": 1,
   "metadata": {},
   "outputs": [],
   "source": [
    "# constructor\n",
    "\n",
    "class creditcard:\n",
    "    def __init__(a):\n",
    "        print(\"Bank Name: SVC\")\n",
    "    def CardInfo(a):\n",
    "        print(\"Credit card information\")\n",
    "        print(\"card type: Visa\")\n",
    "        print(\"Card number: 2345-1234-4566-9876\")\n",
    "    def Cardlimit(a):\n",
    "        print(128900)"
   ]
  },
  {
   "cell_type": "code",
   "execution_count": 2,
   "metadata": {},
   "outputs": [
    {
     "name": "stdout",
     "output_type": "stream",
     "text": [
      "Bank Name: SVC\n",
      "Credit card information\n",
      "card type: Visa\n",
      "Card number: 2345-1234-4566-9876\n",
      "128900\n"
     ]
    }
   ],
   "source": [
    "cd = creditcard()\n",
    "cd.CardInfo()\n",
    "cd.Cardlimit()"
   ]
  }
 ],
 "metadata": {
  "kernelspec": {
   "display_name": "Python 3",
   "language": "python",
   "name": "python3"
  },
  "language_info": {
   "codemirror_mode": {
    "name": "ipython",
    "version": 3
   },
   "file_extension": ".py",
   "mimetype": "text/x-python",
   "name": "python",
   "nbconvert_exporter": "python",
   "pygments_lexer": "ipython3",
   "version": "3.12.9"
  }
 },
 "nbformat": 4,
 "nbformat_minor": 2
}
