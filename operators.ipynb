{
 "cells": [
  {
   "cell_type": "code",
   "execution_count": 1,
   "metadata": {},
   "outputs": [
    {
     "name": "stdout",
     "output_type": "stream",
     "text": [
      "True\n",
      "False\n",
      "True\n",
      "False\n",
      "True\n",
      "False\n"
     ]
    }
   ],
   "source": [
    "# identity operators\n",
    "\n",
    "a = 20\n",
    "b = 20\n",
    "\n",
    "print(a is b)\n",
    "print(a is not b)\n",
    "\n",
    "# membership operators\n",
    "a = [7, 8, 9]\n",
    "b = 7\n",
    "c = 10\n",
    "print(b in a)\n",
    "print(c in a)\n",
    "print(c not in a)\n",
    "print(b not in a)\n"
   ]
  },
  {
   "cell_type": "code",
   "execution_count": 18,
   "metadata": {},
   "outputs": [
    {
     "name": "stdout",
     "output_type": "stream",
     "text": [
      "11\n",
      "10\n",
      "20\n",
      "10.0\n",
      "0.0\n",
      "0.0\n",
      "0.0\n"
     ]
    }
   ],
   "source": [
    "# Assignment operator\n",
    "\n",
    "a = 10\n",
    "print\n",
    "\n",
    "a += 1\n",
    "print(a)\n",
    "\n",
    "a -= 1\n",
    "print(a)\n",
    "\n",
    "a *= 2\n",
    "print(a)\n",
    "\n",
    "a /= 2\n",
    "print(a)\n",
    "\n",
    "a %= 2\n",
    "print(a)\n",
    "\n",
    "a **= 2\n",
    "print(a)\n",
    "\n",
    "a //= 2\n",
    "print(a)\n",
    "\n"
   ]
  },
  {
   "cell_type": "code",
   "execution_count": 19,
   "metadata": {},
   "outputs": [
    {
     "name": "stdout",
     "output_type": "stream",
     "text": [
      "False\n",
      "True\n",
      "True\n"
     ]
    }
   ],
   "source": [
    "# logical operators\n",
    "# and, or, not\n",
    "\n",
    "print(78==56 and 56==56)\n",
    "\n",
    "print(67==67 or 67==78)\n",
    "\n",
    "print(not 67==78)"
   ]
  },
  {
   "cell_type": "code",
   "execution_count": 20,
   "metadata": {},
   "outputs": [
    {
     "name": "stdout",
     "output_type": "stream",
     "text": [
      " ==  False\n",
      " !=  True\n",
      " <=  False\n",
      " >=  True\n",
      " <  False\n",
      " >  True\n"
     ]
    }
   ],
   "source": [
    "# comparison operators\n",
    "\n",
    "a = 67\n",
    "b = 45\n",
    "print(\" == \",a==b)\n",
    "print(\" != \",a!=b)\n",
    "print(\" <= \",a<=b)\n",
    "print(\" >= \",a>=b)\n",
    "print(\" < \",a<b)\n",
    "print(\" > \",a>b)"
   ]
  },
  {
   "cell_type": "code",
   "execution_count": 21,
   "metadata": {},
   "outputs": [
    {
     "name": "stdout",
     "output_type": "stream",
     "text": [
      " +  90\n",
      " -  22\n",
      " *  1904\n",
      " /  1.6470588235294117\n",
      " %  22\n",
      " **  274405567216138790463155698772664096245962311983760614096896\n",
      " //  1\n"
     ]
    }
   ],
   "source": [
    "#arithmetic operators\n",
    "\n",
    "a = 56\n",
    "b = 34\n",
    "print(\" + \",a+b)\n",
    "print(\" - \",a-b)\n",
    "print(\" * \",a*b)\n",
    "print(\" / \",a/b)\n",
    "print(\" % \",a%b)\n",
    "print(\" ** \",a**b)\n",
    "print(\" // \",a//b)\n"
   ]
  }
 ],
 "metadata": {
  "kernelspec": {
   "display_name": "Python 3",
   "language": "python",
   "name": "python3"
  },
  "language_info": {
   "codemirror_mode": {
    "name": "ipython",
    "version": 3
   },
   "file_extension": ".py",
   "mimetype": "text/x-python",
   "name": "python",
   "nbconvert_exporter": "python",
   "pygments_lexer": "ipython3",
   "version": "3.12.9"
  }
 },
 "nbformat": 4,
 "nbformat_minor": 2
}
