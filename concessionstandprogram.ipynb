{
 "cells": [
  {
   "cell_type": "code",
   "execution_count": 8,
   "id": "c8396bdc",
   "metadata": {},
   "outputs": [
    {
     "name": "stdout",
     "output_type": "stream",
     "text": [
      "------MENU------\n",
      "pizza: $3.00\n",
      "nachos: $4.50\n",
      "popcorn: $8.90\n",
      "burger: $6.78\n",
      "soda: $2.34\n",
      "coke: $5.60\n",
      "-----YOUR ORDER-----\n",
      "pizza\n",
      "coke\n",
      "popcorn\n",
      "\n",
      "Total is: $17.50\n"
     ]
    }
   ],
   "source": [
    "menu = {\"pizza\": 3.00,\n",
    "        \"nachos\": 4.50,\n",
    "        \"popcorn\": 8.90,\n",
    "        \"burger\": 6.78,\n",
    "        \"soda\": 2.34,\n",
    "        \"coke\": 5.60}\n",
    "\n",
    "cart = []\n",
    "total = 0\n",
    "\n",
    "print(\"------MENU------\")\n",
    "for key, value in menu.items():\n",
    "    print(f\"{key}: ${value:.2f}\")\n",
    "\n",
    "while True:\n",
    "    food = input(\"Select an item (q to quit)\").lower()\n",
    "    if food == \"q\":\n",
    "        break\n",
    "    elif menu.get(food) is not None:\n",
    "        cart.append(food)\n",
    "\n",
    "print(\"-----YOUR ORDER-----\")\n",
    "for food in cart:\n",
    "    total += menu.get(food)\n",
    "    print(food)\n",
    "\n",
    "print()\n",
    "print(f\"Total is: ${total:.2f}\")"
   ]
  }
 ],
 "metadata": {
  "kernelspec": {
   "display_name": "Python 3",
   "language": "python",
   "name": "python3"
  },
  "language_info": {
   "codemirror_mode": {
    "name": "ipython",
    "version": 3
   },
   "file_extension": ".py",
   "mimetype": "text/x-python",
   "name": "python",
   "nbconvert_exporter": "python",
   "pygments_lexer": "ipython3",
   "version": "3.13.5"
  }
 },
 "nbformat": 4,
 "nbformat_minor": 5
}
