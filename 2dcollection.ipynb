{
 "cells": [
  {
   "cell_type": "code",
   "execution_count": 2,
   "id": "6952d76b",
   "metadata": {},
   "outputs": [
    {
     "name": "stdout",
     "output_type": "stream",
     "text": [
      "['apple', 'cherry', 'mango']\n",
      "['banana', 'guava', 'dragonfruit']\n",
      "['tomato', 'cucumber', 'grapes']\n"
     ]
    }
   ],
   "source": [
    "groceries = [[\"apple\",\"cherry\",\"mango\"],\n",
    "             [\"banana\",\"guava\",\"dragonfruit\"],\n",
    "             [\"tomato\",\"cucumber\",\"grapes\"]]\n",
    "\n",
    "for collection in groceries:\n",
    "    print(collection)"
   ]
  },
  {
   "cell_type": "code",
   "execution_count": 6,
   "id": "e000f42e",
   "metadata": {},
   "outputs": [
    {
     "name": "stdout",
     "output_type": "stream",
     "text": [
      "apple cherry mango \n",
      "banana guava dragonfruit \n",
      "tomato cucumber grapes \n"
     ]
    }
   ],
   "source": [
    "groceries = [[\"apple\",\"cherry\",\"mango\"],\n",
    "             [\"banana\",\"guava\",\"dragonfruit\"],\n",
    "             [\"tomato\",\"cucumber\",\"grapes\"]]\n",
    "\n",
    "for collection in groceries:\n",
    "    for food in collection:\n",
    "        print(food, end=\" \")\n",
    "    print()"
   ]
  },
  {
   "cell_type": "code",
   "execution_count": 11,
   "id": "88e3dfbb",
   "metadata": {},
   "outputs": [
    {
     "name": "stdout",
     "output_type": "stream",
     "text": [
      "1 2 3 \n",
      "4 5 6 \n",
      "7 8 9 \n",
      "* 0 # \n"
     ]
    }
   ],
   "source": [
    "# numpad\n",
    "\n",
    "num_pad = ((1,2,3),\n",
    "           (4,5,6),\n",
    "           (7,8,9),\n",
    "           (\"*\",0,\"#\"))\n",
    "\n",
    "for row in num_pad:\n",
    "    for num in row:\n",
    "        print(num, end=\" \")\n",
    "    print()"
   ]
  }
 ],
 "metadata": {
  "kernelspec": {
   "display_name": "Python 3",
   "language": "python",
   "name": "python3"
  },
  "language_info": {
   "codemirror_mode": {
    "name": "ipython",
    "version": 3
   },
   "file_extension": ".py",
   "mimetype": "text/x-python",
   "name": "python",
   "nbconvert_exporter": "python",
   "pygments_lexer": "ipython3",
   "version": "3.13.5"
  }
 },
 "nbformat": 4,
 "nbformat_minor": 5
}
